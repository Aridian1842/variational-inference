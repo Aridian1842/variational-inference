{
 "metadata": {
  "name": "",
  "signature": "sha256:f87fb05abd22a25b7c830125206a08243617f8335420598b6be7067c77c4fbd9"
 },
 "nbformat": 3,
 "nbformat_minor": 0,
 "worksheets": [
  {
   "cells": [
    {
     "cell_type": "code",
     "collapsed": false,
     "input": [
      "#### Hidden variables ####\n",
      "\n",
      "A hidden or latent variable in a statistical model is a variable that is not directly observed in the process of interest, but whose value is inferred based on observed variables. The classic example comes from a mixture distribution. \n",
      "\n",
      "Briefly, a mixture distribution results when a random variable has more than one parent population. To take an example from R, say we're looking at the Old Faithful dataset. One column gives the duration of each eruption, and another gives the waiting time to an eruption (both in minutes). Using the example plot from R, we can see that the data follow a bimodal distribution (so you could say there are two parent populations):\n",
      "\n",
      "<img src=\"https://github.com/caugusta/variational-inference/raw/master/OldFaithful.png\" alt=\"\" style=\"width:500px\">\n",
      "\n",
      "We could model this process as a mixture distribution with two distributions: $g_s(X) = N(\\mu_1, \\sigma_1^2)$ and $g_\\ell(X) = N(\\mu_2, \\sigma_2^2)$, where $s$ is for short wait time and $\\ell$ is for long wait time.\n",
      "\n",
      "Suppose we have a sample of eruptions $\\boldsymbol{x} = \\{x_1, \\ldots, x_n\\}$, and we observe their wait times $\\boldsymbol{y} = \\{y_1, \\ldots y_n\\}$. We assume there's an unobserved (hidden) label $C_i = \\{{\\rm{Short, Long}}\\}$, associated with each wait time.\n",
      "\n",
      "The probability that we'd get a wait time between 40 and 70 minutes is proportional to the area under the left hand curve. Similar for the right handed curve. The distribution of wait times can be represented as a mixture of normal distributions:\n",
      "\n",
      "$$f(X=x) = \\pi_1 g_s(X) + \\pi_2 g_\\ell(X)$$\n",
      "\n",
      "where $\\pi_1 + \\pi_2$ = 1.\n",
      "\n",
      "\n",
      "\n",
      "The only thing is, these distributions clearly overlap! If we draw $x = 68$ from this distribution, it's not clear whether $x$ came from the first subpopulation or the second. So the identity of the distribution from which $x$ came is a hidden variable.\n"
     ],
     "language": "python",
     "metadata": {},
     "outputs": []
    }
   ],
   "metadata": {}
  }
 ]
}