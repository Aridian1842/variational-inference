{
 "metadata": {
  "name": "",
  "signature": "sha256:b839db25516789ad849570377f8562de79e70a6e8e1ac1f423127d9f1cf18a0d"
 },
 "nbformat": 3,
 "nbformat_minor": 0,
 "worksheets": [
  {
   "cells": [
    {
     "cell_type": "markdown",
     "metadata": {},
     "source": [
      "#An Introduction to Mean-Field Variational Inference#"
     ]
    },
    {
     "cell_type": "markdown",
     "metadata": {},
     "source": [
      "Carolyn Augusta, caugusta@uoguelph.ca"
     ]
    },
    {
     "cell_type": "markdown",
     "metadata": {},
     "source": [
      "\n",
      "\n",
      "------------\n",
      "## Outline ##\n",
      "\n",
      "1. Frequentist vs Bayesian inference\n",
      "2. Conditional probability and Bayes' Theorem\n",
      "3. Why we need variational methods\n",
      "4. Mean field variational inference - theory\n",
      "5. Mean field variational inference - example: Variational clustering\n",
      "6. Conclusion\n",
      "7. References\n",
      "\n"
     ]
    },
    {
     "cell_type": "markdown",
     "metadata": {},
     "source": [
      "---\n",
      "\n",
      "###1. Frequentist vs Bayesian philosophy###\n",
      "\n",
      "Frequentist and Bayesian statisticians vary in philosophy, but are both trying to do basically the same thing: assign a probability to a chance event. This xkcd comic is a nice illustration of the concept:"
     ]
    },
    {
     "cell_type": "markdown",
     "metadata": {},
     "source": [
      "<img src=\"http://imgs.xkcd.com/comics/frequentists_vs_bayesians.png\" alt=\"\" style=\"width:500px\">\n",
      "\n",
      "(Note: there is a lot of debate about this comic, [particularly here](http://stats.stackexchange.com/questions/43339/whats-wrong-with-xkcds-frequentists-vs-bayesians-comic), but it's early and coffee and comics go together!) Also, my summary of frequentist vs Bayesian is missing some details, but I just want to communicate the general idea.\n",
      " "
     ]
    },
    {
     "cell_type": "markdown",
     "metadata": {},
     "source": [
      "####Frequentist interpretation:####\n",
      "\n",
      "If I were to repeat the sun going nova many times, then I could get a probability of the sun going nova now. I could compare that probability with the probability that the machine is lying, and conclude, based on a p-value, which is the more likely scenario. Because my p-value (0.027) is less than my significance level (0.05), I think it's really unlikely that the machine is lying. I reject the null hypothesis that the sun has not gone nova. (Note one of the arguments about this comic: it's not clear what the null hypothesis is here - is it that the machine is not lying, or that the sun has not gone nova?).\n",
      "\n",
      "Frequentists rely on frequency of events over long periods of time to calculate probabilities. They assume parameters are fixed, and data are random, from some population.\n",
      "\n",
      "####Bayesian interpretation:####\n",
      "\n",
      "The sun going nova is not a repeatable event, so I need a different way to assign a probability to the sun going nova. I'll use common sense (prior knowledge that the sun won't die for another 5 billion years or so), and I'll look at the data I have (that the machine said yes) and since my prior knowledge is more trustworthy than my data, I'll conclude that the sun has not gone nova.\n",
      "\n",
      "Bayesians rely on prior knowledge to quantify the probability of an event before seeing any data. They assume parameters are random variables (with probability distributions) and that data are fixed, from some population.\n",
      "    \n",
      "    "
     ]
    },
    {
     "cell_type": "markdown",
     "metadata": {},
     "source": [
      "###2. Conditional probability and Bayes' Theorem###"
     ]
    },
    {
     "cell_type": "markdown",
     "metadata": {},
     "source": [
      "The rest of this talk will be on Bayesian inference, which is based on Bayes' Theorem. As a reminder of what's going on, have a look at the derivation of Bayes' Theorem from conditional probability:\n",
      "\n",
      "Recall:\n",
      "\n",
      "$$P(Z \\mid X) = \\displaystyle{\\frac{P(X, Z)}{P(X)}}$$\n",
      "\n",
      "$$P(X \\mid Z) = \\displaystyle{\\frac{P(X, Z)}{P(Z)}}$$\n",
      "\n",
      "Rearranging gives: $$P(X, Z) = P(X \\mid Z)P(Z)$$\n",
      "\n",
      "and similarly,\n",
      "\n",
      "\\begin{equation}\n",
      "P(X, Z) = P(Z \\mid X)P(X)\n",
      "\\end{equation}\n",
      "\n",
      "So we can substitute to get Bayes' Theorem:\n",
      "\n",
      "\\begin{equation}\n",
      "P(Z \\mid X) = \\displaystyle{\\frac{P(X \\mid Z)P(Z)}{P(X)}}\n",
      "\\end{equation}\n"
     ]
    },
    {
     "cell_type": "markdown",
     "metadata": {},
     "source": [
      "where\n",
      "\n",
      "$P(Z \\mid X)$ is the posterior distribution of the hidden variables $Z$ given the data $X$ (more on hidden variables later)\n",
      "\n",
      "$P(X \\mid Z)$ is the likelihood of the data under hidden variable values $Z$\n",
      "\n",
      "$P(Z)$ is the prior distribution of $Z$ (the distribution we assume the hidden variables $Z$ have before we see any data)\n",
      "\n",
      "$P(X)$ is the normalization constant, and is the probability of the data regardless of the hidden variables' values.\n",
      "\n",
      "We get the normalization constant, $P(X)$, by integrating the joint distribution of the data and the parameters over all values the parameters can take (marginalizing):\n",
      "\n",
      "$$P(X) = \\int_Z P(X \\mid Z)P(Z) dZ$$\n",
      "\n",
      "Bayesian inference is based on the posterior distribution, $P(Z \\mid X)$. We're trying to find the best distributions for the hidden variables, after we observe the data. \n",
      "\n",
      "An important concept we're going to use is that of a conjugate prior. The posterior and prior distributions are said to be conjugate when they come from the same family of distributions. That's going to be useful in the example later on.\n",
      "\n",
      "####So the general idea of Bayesian inference is:####\n",
      "\n",
      "1) Start with some previously-known information about your hidden variables $Z$. Use this to construct the prior, $P(Z)$\n",
      "\n",
      "2) Posit a model for your data, and calculate the likelihood $P(X \\mid Z)$\n",
      "\n",
      "3) Integrate (or sum, if your hidden variable distributions are discrete) the joint distribution $P(X, Z) = P(X \\mid Z)P(Z)$ over all values each $Z$ can take. This is the normalization constant.\n",
      "\n",
      "4) Posterior = likelihood*prior/(normalization constant)\n",
      "\n",
      "5) Use the posterior to make inferences about the hidden variables, $Z$."
     ]
    },
    {
     "cell_type": "markdown",
     "metadata": {},
     "source": [
      "---------\n",
      "###3. Why we need variational methods###\n",
      "\n",
      "Have another look at the normalization constant:\n",
      "    \n",
      "$$P(X) = \\int_Z P(X \\mid Z)P(Z) dZ$$\n",
      "\n",
      "If we have a lot of hidden variables, we would need to integrate over that very large space. This quickly becomes computationally intractable. \n",
      "\n",
      "If the normalization constant is intractable, then the posterior distribution $P(Z \\mid X)$ is also intractable.\n",
      "\n",
      "There are two main classes of methods right now to do Bayesian inference when the normalization constant is intractable:\n",
      "\n",
      "1) Markov chain Monte Carlo (sampling from the intractable posterior distribution) - stochastic algorithm\n",
      "\n",
      "2) Variational Bayes (approximating the intractable posterior distribution with a known, nice function) - deterministic algorithm"
     ]
    },
    {
     "cell_type": "markdown",
     "metadata": {},
     "source": [
      "---------------------------------------\n",
      "### 4. Mean-field variational inference - theory###\n",
      "\n",
      "\n",
      "#### Hidden (latent) variables and mixture distributions ####\n",
      "\n",
      "A hidden or latent variable in a statistical model is a variable that is not directly observed in the process of interest, but whose value is inferred based on observed variables. The classic example comes from a mixture distribution. \n",
      "\n",
      "A mixture distribution results when a random variable could come from one of several subpopulations, or clusters. Say we have $n$ observations from a random variable $X$ (that is, we have $x_1, \\ldots, x_n$). Then each $x_i$ belongs to some cluster. We want to know which cluster $x_i$ came from, but that information is hidden. We only have the observations themselves, not the cluster labels. \n",
      "\n",
      "To take an example from R, say we're looking at the Old Faithful dataset. We know the duration of each eruption, and the waiting time to an eruption (both in minutes). Using the example plot from R, we can see that the data follow a bimodal distribution (so you could say there are two clusters):\n",
      "\n",
      "<img src=\"https://github.com/caugusta/variational-inference/raw/master/OldFaithful.png\" alt=\"\" style=\"width:500px\">\n",
      "\n",
      "We could model this process as a mixture distribution with two distributions (clusters): $g_s(X) = N(\\mu_1, \\sigma_1^2)$ and $g_\\ell(X) = N(\\mu_2, \\sigma_2^2)$, where $s$ is for short wait time and $\\ell$ is for long wait time.\n",
      "\n",
      "Suppose we have a sample of eruptions $\\boldsymbol{x} = \\{x_1, \\ldots, x_n\\}$. \n",
      "\n",
      "<!--\n",
      "and we observe their wait times $\\boldsymbol{y} = \\{y_1, \\ldots y_n\\}$. \n",
      "\n",
      "-->\n",
      "\n",
      "We assume there's an unobserved (hidden) cluster label $Z_i = \\{{\\rm{Short, Long}}\\}$, with one realization per wait time, $\\boldsymbol{z} = \\{z_1, \\ldots z_n\\}$.\n",
      "\n",
      "The distribution of cluster labels is Bernoulli$(\\pi)$ (since it can only be 1 of 2 possible clusters - if we had more clusters, we would use a Categorical distribution).\n",
      "\n",
      "\n",
      "$$P(Z) = \\prod_{i=1}^{n} P(Z_i \\mid \\pi) = \\prod_{i=1}^{n} \\pi^{Z_i} (1 - \\pi)^{1 - Z_i}$$\n",
      "\n",
      "where\n",
      "\n",
      "\\begin{equation}\n",
      "    Z_i = \n",
      "    \\begin{cases}\n",
      "      1, & {\\rm{if\\ }} x_i {\\rm{\\ is\\ Short}}\\  \\\\\n",
      "      0, & \\text{otherwise}\n",
      "    \\end{cases}\n",
      "  \\end{equation}\n",
      "\n",
      "and $$P(Z_i = {\\rm{Short}}) = \\pi$$\n",
      "\n",
      "\n",
      "\n",
      "The probability that we'd get a wait time from the first cluster is proportional to the area under the left hand curve. Similar for the right handed curve. The distribution of wait times (regardless of the cluster labels) can be represented as a mixture of normal distributions:\n",
      "\n",
      "$$P(X) = P(X_1=x_1, X_2 = x_2, \\ldots X_n = x_n) = \\prod_{i=1}^{n} \\left( \\pi g_s(x_i) + (1 - \\pi) g_\\ell(x_i) \\right)$$\n",
      "\n",
      "We also know the likelihood, since:\n",
      "\n",
      "$$X_i \\mid (Z_i = 1) \\sim g_s (x_i)$$\n",
      "\n",
      "$$X_i \\mid (Z_i = 0) \\sim g_\\ell (x_i)$$\n",
      "\n",
      "$$P(X \\mid Z) = \\prod_{i=1}^{n} \\left(g_s(x_i)^{z_i} + g_\\ell(x_i)^{1 - z_i} \\right)$$\n",
      "\n",
      "\n",
      "So we have the normalization constant $P(X)$, the likelihood $P(X \\mid Z)$, and the prior $P(Z)$. The cluster label $z_i$ is hidden. If we wanted to infer it based on the data we have, then we could use variational inference (although the posterior distribution $P(Z \\mid X)$ in this case is tractable, so we could just use Bayes' Theorem).\n",
      "\n",
      "\n",
      "\n",
      "<!--\n",
      "The only thing is, these distributions clearly overlap! If we draw $x = 68$ from this distribution, it's not clear whether $x$ came from the first subpopulation or the second. So the identity of the distribution from which $x$ came is a hidden variable.\n",
      "\n",
      "-->\n",
      "\n"
     ]
    },
    {
     "cell_type": "markdown",
     "metadata": {},
     "source": [
      "#### The Mean Field Assumption ####\n",
      "\n",
      "In statistical physics, mean field theory has long been used to model complex systems using relatively simple ones. A huge assumption is made, though, that all of the hidden variables $Z_1, Z_2, \\ldots, Z_n$ are mutually independent. This is often a bad assumption, because in reality there are a lot of ways for the model to have dependencies. However, the mean field (independence) assumption has some nice properties, so that'll be the focus of today's presentation.\n",
      "\n"
     ]
    },
    {
     "cell_type": "markdown",
     "metadata": {},
     "source": [
      "<!--\n",
      "Remember, the posterior distribution $P(Z \\mid X)$ is intractable because the normalizing constant, $P(X)$ is intractable. We want to approximate this intractable posterior distribution with some known, nice function $Q$ (called the \"variational distribution\"). So:\n",
      "\n",
      "$$P(Z \\mid X) \\approx Q(Z)$$\n",
      "\n",
      "Using the mean field assumption, we'll assume Q is a factorized distribution. That is, we'll assume:\n",
      "\n",
      "$$Q(Z) = \\prod_{i=1}^n Q_i(Z_i)$$\n",
      "\n",
      "We have the likelihood (from the data and the model) and the prior (because we can always specify one). So the only thing to cover now is the normalization constant, $P(X)$. \n",
      "-->\n",
      "\n",
      "####The lower bound on the normalization constant ####\n",
      "\n",
      "\n",
      "To get to the objective function in mean-field variational inference, we need to minimize the distance between an approximating distribution $Q$ (called the \"variational distribution\") and the true posterior distribution $P(Z \\mid X)$. To do this, we need to get an appropriate distance metric. The distance metric we'll use is based on maximizing the log probability of the data regardless of the hidden variables (the log normalization constant, ${\\rm{ln\\ }} P(X)$). Remember any time a statistician says log, they usually mean ln. We can get a lower bound on the normalization constant in the following way:\n",
      "\n",
      "\n"
     ]
    },
    {
     "cell_type": "markdown",
     "metadata": {},
     "source": [
      "\\begin{align}\n",
      "{\\rm{ln}}\\ P(X) &= {\\rm{ln}} \\int_Z P(X \\mid Z)P(Z)\\ dZ \\\\[0.5em]\n",
      "&= {\\rm{ln}} \\int_Z P(X, Z)\\ dZ  {\\hspace{0.5in} \\rm {\\ by\\ conditional\\ probability}} \\\\[0.5em]\n",
      "&= {\\rm{ln}} \\int_Z \\frac{P(X, Z)}{Q(Z \\mid X)}Q(Z \\mid X)\\ dZ \\\\[0.5em]\n",
      "&= {\\rm{ln\\ }} E_Q \\left[\\frac{P(X, Z)}{Q(Z \\mid X)} \\right] {\\hspace{0.5in} \\rm{\\, since\\ E_X(g(X)) = \\int_x g(x)f(x) dx,\\ by\\ definition,\\ taking\\ the\\ expectation\\ with\\ respect\\ to\\ Q(Z)}}\\\\[0.5em]\n",
      "&\\ge E_Q\\ {\\rm{ln}} \\left[\\frac{P(X, Z)}{Q(Z \\mid X)} \\right] {\\hspace{0.5in} \\rm{\\, by\\ Jensen's\\ Inequality}} \\\\[0.5em]\n",
      "&= E_Q \\left[{\\rm{ln\\ }} P(X, Z)\\right] - E_Q \\left[{\\rm{ln\\ }} {Q(Z \\mid X)}\\right] \\\\[0.5em]\n",
      "&= {\\mathcal{L}}(Q) \\\\\n",
      "\\end{align}"
     ]
    },
    {
     "cell_type": "markdown",
     "metadata": {},
     "source": [
      "The first expected value term here is the expected value of the log joint distribution, which is our model distribution. The second expected value term is the entropy of $Q$. The two terms together constitute a lower bound on the normalization constant. This lower bound, denoted $\\mathcal{L}(Q)$ is also called the \"expectation lower bound\", or ELBO. Also note, when I write $Q$, or $Q(Z)$, I mean $Q(Z \\mid X)$, it's just nicer notation.\n",
      "\n",
      "Aside: Jensen's Inequality applied here is ${\\rm{ln}}(E(X)) \\ge E({\\rm{ln}} (X))$, and more information is available [here](http://en.wikipedia.org/wiki/Jensen's_inequality). The vast majority of this derivation is given in Bishop (1998) and again in Hoffman (2013)."
     ]
    },
    {
     "cell_type": "markdown",
     "metadata": {},
     "source": [
      "####The objective function ####\n",
      "\n",
      "In variational inference, we want to approximate that intractable posterior distribution by some known, nice function $Q$. To find the optimal $Q$, we need to define a relationship between the intractable log normalization constant ${\\rm{ln\\ }} P(X)$ and $Q$, and get an objective function based on that relationship.\n",
      "\n",
      "The mean-field assumption leads to a rather nice result, namely that we can use that ELBO $\\mathcal{L} (Q)$ (lower bound on the log probability of the data) in the following way:\n",
      "\n",
      "$${\\rm{ln}}\\ P(X) = {\\rm{\\mathcal{L}}}(Q) + {\\rm{KL}}(Q \\ \\| \\ P)$$\n",
      "\n",
      "where ${\\rm{\\mathcal{L}}}(Q)$ is the ELBO, and ${\\rm{KL}}(Q \\ \\| \\ P)$ is the KL (Kullback-Leibler) divergence between the approximating distribution $Q$ and the true posterior distribution $P(Z \\mid X)$. \n",
      "\n",
      "(Aside: Remember the KL divergence is a measure of the difference between two probability distributions. It's not the same as a distance function, because it isn't symmetric (but you can define it to be - that's done in stochastic variational inference, but not here). It is defined (for continuous distributions) as:\n",
      "\n",
      "$${\\rm{KL}}(Q(Z \\mid X) \\ \\| \\ P(Z\\mid X)) = - \\int_{Z} Q(Z \\mid X) {\\rm\\ ln}\\left[\\frac{P(Z \\mid X)}{Q(Z \\mid X)}\\right] dZ$$\n",
      "\n",
      "Or, in simplified notation:\n",
      "\n",
      "$${\\rm{KL}}(Q \\ \\| \\ P) = - \\int_Z Q {\\rm\\ ln}\\left[\\frac{P}{Q}\\right] dZ$$\n",
      "\n",
      "This relationship can be derived by expanding the KL divergence, and expanding the ELBO, then adding them together, cancelling out some terms and remembering that Q is a probability density function (which means the integral of $Q$ over its domain is equal to 1). I can send you the proof if you like, or you can find most of it in Bishop (2006).)\n",
      "\n"
     ]
    },
    {
     "cell_type": "markdown",
     "metadata": {},
     "source": [
      "So maximizing the ELBO $\\mathcal{L}(Q)$, with respect to $Q$ is the same as minimizing the KL divergence between the variational distribution $Q$ and the true posterior distribution $P(Z \\mid X)$. This is more easily seen through a picture (from Bishop 1998):\n",
      "\n",
      "<img src=\"https://github.com/caugusta/variational-inference/raw/master/KLpicture.png\" alt=\"Illustration of the KL divergence minimization being equivalent to maximization of the lower bound\" style=\"width:250px\">\n",
      "\n",
      "In this diagram, ${\\rm{ln\\ }} P(V \\mid w)$ is the equivalent of our ${\\rm {ln\\ }} P(X)$. Note that we can't compute the KL divergence here, since we can't compute the posterior $P(Z \\mid X)$. Instead, we focus on maximizing the ELBO:\n",
      "\n",
      "$$\\mathcal{L}(Q) = E_Q \\left[{\\rm{ln\\ }} P(X, Z)\\right] - E_Q \\left[{\\rm{ln\\ }} {Q(Z)}\\right]$$\n",
      "\n",
      "#### Choosing Q ####\n",
      "Recall the minimum value of the KL divergence metric is 0. If we could choose any $Q$ we like, we would choose it such that $Q = P(Z \\mid X)$, which would give a KL divergence of 0. That would mean, though, that we knew the form of the posterior distribution, which we don't. So instead, we choose a \"best\" $Q$ out of a particular family of functions. Corresponding to the mean-field assumption, we choose the following factorized form for the variational distribution:\n",
      "\n",
      "$$ Q(Z) = \\prod_{i=1}^n Q_i (Z_{i}) $$\n",
      "\n",
      "So there will be $n$ functions $Q_i$ corresponding to the $n$ different $Z_i$ hidden variables."
     ]
    },
    {
     "cell_type": "markdown",
     "metadata": {},
     "source": [
      "#### Maximizing the ELBO ####\n",
      "\n",
      "Finally, we have our objective function:\n",
      "    \n",
      "$$\\mathcal{L}(Q) = E_Q \\left[{\\rm{ln\\ }} P(X, Z)\\right] - E_Q \\left[{\\rm{ln\\ }} {\\prod_{i=1}^{n} Q_i(Z_i)}\\right]$$"
     ]
    },
    {
     "cell_type": "markdown",
     "metadata": {},
     "source": [
      "We want to maximize $\\mathcal{L}(Q)$ with respect to each function $Q_i(Z_i)$"
     ]
    },
    {
     "cell_type": "markdown",
     "metadata": {},
     "source": [
      "The final result is:\n",
      "    \n",
      "$$Q^{*}_j(Z_j)= \\displaystyle{\\frac{{\\rm{exp}}\\left\\{ E_{Q_{i \\ne j}} \\left[ {\\rm{\\ln\\ }} P(X, Z) \\right]\\right\\}}{\\int_{Z_j} \\rm{exp}\\left\\{ E_{Q_{i \\ne j}} \\left[ {\\rm{\\ln\\ }} P(X, Z) \\right]\\right\\} d{Z_j}}}$$"
     ]
    },
    {
     "cell_type": "markdown",
     "metadata": {},
     "source": [
      "So to arrive at a best distribution for all $Z_j,\\ j = 1, \\ldots n$, we need to initialize all of the factors $Q_i(Z_i), i \\ne j$, then calculate the expectation of $Z_j$ with respect to the other factors. We then update our $Q_j(Z_j)$, and move to another distribution, holding all the others constant. In this way, we will arrive at an optimal distribution for $Q$, since the bound is convex with respect to each of the $Q_i(Z_i)$ distributions (Bishop, 2006).\n",
      "\n",
      "####The complete algorithm is:####\n",
      "\n",
      "1. Initialize the parameters of all of the variational distributions $Q_j(Z_j),\\ j = 1, \\ldots, n$\n",
      "2. For j in 1:n\n",
      "    $$Q^{new}_j(Z_j) = \\displaystyle{\\frac{{\\rm{exp}}\\left\\{ E_{Q_{i \\ne j}} \\left[ {\\rm{\\ln\\ }} P(X, Z) \\right]\\right\\}}{\\int_{Z_j} \\rm{exp}\\left\\{ E_{Q_{i \\ne j}} \\left[ {\\rm{\\ln\\ }} P(X, Z) \\right]\\right\\} d{Z_j}}}$$\n",
      "    \n",
      "3. Iterate until convergence.\n",
      "    "
     ]
    },
    {
     "cell_type": "markdown",
     "metadata": {},
     "source": [
      "###5. Mean field variational inference - example: Variational Gaussian Mixture Model###"
     ]
    },
    {
     "cell_type": "markdown",
     "metadata": {},
     "source": [
      "This example is taken directly, verbatim from http://www.bayespy.org/examples/gmm.html. All of the mathematical derivations are available in section 10.2 of Bishop (2006).\n",
      "\n",
      "The Python 3.0 module BayesPy allows variational Bayes procedures to be implemented on linear regression, Gaussian mixture models, Bernoulli mixture models, Hidden Markov models, and more. Unfortunately the authors have not seen fit to provide a Python 2.7 implementation.\n",
      "\n",
      "Remember from the Old Faithful example that we had 2 component distributions in our mixture distribution. Here, we'll instead have 4 component distributions, (called clusters) to make the problem a little more interesting:\n",
      "\n",
      "<!--\n",
      "Recall the parameters of a Normal distribution are $\\mu$ and $\\sigma^2$. Just like the Normal distribution, each variational distribution will have some associated parameters. Arriving at an optimal distribution for each $Q_j(Z_j)$ means finding the best settings of the variational parameters for each distribution. \n",
      "\n",
      "In Bayesian multiple linear regression, we have the following model:\n",
      "\n",
      "$$y_i = \\beta_0 + \\beta_1 x_{i, 1} + \\beta_2x_{i, 2} + \\cdots + \\beta_k x_{i,k} + \\epsilon_i, \\hspace{0.5in} i = \\{1, \\ldots, n\\}$$\n",
      "\n",
      "$$\\epsilon_i \\sim N(0, \\tau),$$ \n",
      "\n",
      "$$\\beta \\sim N(0, \\alpha),$$ \n",
      "\n",
      "$$\\alpha \\sim Gamma(a_0, b_0)$$\n",
      "-->\n",
      "\n",
      "<!--\n",
      "where:\n",
      "\n",
      "the $n$-vector $y$ is the dependent variable (observed variable)\n",
      "\n",
      "the $n x k$ matrix $X$ is the design matrix\n",
      "\n",
      "the $k$-vector $\\beta$ is a vector of regression coefficients (hidden parameter)\n",
      "\n",
      "the $n$ vector $\\epsilon$ is an error (noise) term with distribution $N(0, \\tau)$\n",
      "\n",
      "$\\tau$ is the precision (inverse of the covariance matrix) of the distribution of the error term (hidden parameter)\n",
      "\n",
      "$\\alpha$ is the precision of the distribution on the regression coefficients $\\beta$ (hidden parameter)\n",
      "\n",
      "Remember in a Bayesian treatment, parameters have distributions, and are considered random variables.\n",
      "-->\n",
      "\n",
      "<!--\n",
      "If you have Python 3.0, you can use a very nice new package called BayesPy, which also does Variational inference on a Gaussian mixture model (follow the example [here](http://www.bayespy.org/examples/gmm.html)). Since I have Python 2.7, I'm going to be doing things a little differently.\n",
      "\n",
      "Say we have data from a Gaussian process, and we can plot the data. In this very simple example, we'll assume that the number fo clusters is known a priori, but of course you can always treat the number of clusters as a hidden variable and infer it in a similar way to the ohter hidden variables in the model. In this example, there are 300 observations in each cluster:\n",
      "\n",
      "<img src=\"https://github.com/caugusta/variational-inference/raw/master/MyData.png\" alt=\"\" style=\"width:600px\">\n",
      "\n",
      "and we know the true value of the means is [2,2] and [10,10], and that each cluster has the 2x2 identity covariance matrix. Say we didn't know this, though. All we had were the raw data, and we didn't know the means and covariance matrices. We could use mean field variational inference to infer them, as well as the cluster label for each data point.\n",
      "-->"
     ]
    },
    {
     "cell_type": "code",
     "collapsed": false,
     "input": [
      "#This will work regardless of your Python version\n",
      "import numpy as np\n",
      "import matplotlib.pyplot as plt\n",
      "\n",
      "#Get 50 samples from each of 4 separate 2D Multivariate Normal distributions\n",
      "#x0 = np.random.multivariate_normal([0, 0], [[2, 0], [0, 0.1]], size=50)\n",
      "#x1 = np.random.multivariate_normal([0, 0], [[0.1, 0], [0, 2]], size=50)\n",
      "#x2 = np.random.multivariate_normal([2, 2], [[2, -1.5], [-1.5, 2]], size=50)\n",
      "#x3 = np.random.multivariate_normal([-2, -2], [[0.5, 0], [0, 0.5]], size=50)\n",
      "\n",
      "\n",
      "#concatenate all of the observations together\n",
      "obs = np.vstack([x0, x1, x2, x3]) #this version is used in the online example\n",
      "obsplot = np.r_[x0, x1, x2, x3]  #this version is for my plot. The only difference is formatting.\n",
      "\n",
      "#and plot them\n",
      "plt.plot(obs[:,0][0:49], obs[:,1][0:49], 'ro', obs[:,0][50:99], obs[:,1][50:99], 'bo', obs[:,0][100:149], obs[:,1][100:149], 'go', obs[:,0][150:199], obs[:,1][150:199], 'mo',)\n",
      "plt.xlabel('x')\n",
      "plt.ylabel('y')\n",
      "plt.axis([-3, 6, -3, 5])\n",
      "plt.title('Example data from four MVN distributions')\n",
      "plt.show()\n"
     ],
     "language": "python",
     "metadata": {},
     "outputs": [
      {
       "metadata": {},
       "output_type": "display_data",
       "png": "[encoded data removed]",
       "text": [
        "<matplotlib.figure.Figure at 0x105b68950>"
       ]
      }
     ],
     "prompt_number": 22
    },
    {
     "cell_type": "markdown",
     "metadata": {},
     "source": [
      "Now suppose we didn't know the cluster labels. That is, we don't know which of our 4 MVN distributions an observation comes from. We can visualize this with a plot without the colours - just the raw data:"
     ]
    },
    {
     "cell_type": "markdown",
     "metadata": {},
     "source": [
      "<img src=\"https://github.com/caugusta/variational-inference/raw/master/FromOnline1.png\" alt=\"\" style=\"width:500px\">"
     ]
    },
    {
     "cell_type": "markdown",
     "metadata": {},
     "source": [
      "####Model####\n",
      "\n",
      "For clarity, let us denote the number of the data vectors with N"
     ]
    },
    {
     "cell_type": "code",
     "collapsed": false,
     "input": [
      "N = 200"
     ],
     "language": "python",
     "metadata": {},
     "outputs": [],
     "prompt_number": 24
    },
    {
     "cell_type": "markdown",
     "metadata": {},
     "source": [
      "and the dimensionality of the data vectors with D:"
     ]
    },
    {
     "cell_type": "code",
     "collapsed": false,
     "input": [
      "D = 2"
     ],
     "language": "python",
     "metadata": {},
     "outputs": [],
     "prompt_number": 25
    },
    {
     "cell_type": "markdown",
     "metadata": {},
     "source": [
      "Since we don't know how many clusters our dataset has, we'll start with some large number of clusters, and the algorithm will pare this number down to a 'best guess' as to the true number of clusters. "
     ]
    },
    {
     "cell_type": "code",
     "collapsed": false,
     "input": [
      "K = 10"
     ],
     "language": "python",
     "metadata": {},
     "outputs": [],
     "prompt_number": 26
    },
    {
     "cell_type": "markdown",
     "metadata": {},
     "source": [
      "Remember when we have more than 2 possible clusters (we're assuming 10 here to be safe), we use a Categorical distribution. So the cluster assignments Z will have a Categorical distribution, and the prior for the cluster assignmenat probabilities $P(\\pi)$ will have a Dirichlet distribution:\n",
      "\n",
      "$$P(\\pi) = Dir(\\pi \\mid \\alpha)$$\n",
      "\n",
      "(More about Dirichlet distributions [here](http://en.wikipedia.org/wiki/Dirichlet_distribution), but for this example you only need to know that it's the conjugate prior of the Categorical distribution)\n"
     ]
    },
    {
     "cell_type": "code",
     "collapsed": false,
     "input": [
      "#This part will only work with Python 3.0\n",
      "\n",
      "from bayespy.nodes import Dirichlet, Categorical\n",
      "\n",
      "#Create a Dirichlet process prior for the cluster assignments our P(\\pi) \n",
      "alpha = Dirichlet(1e-5*npones(K), name = 'alpha') \n",
      "\n",
      "#The cluster assignments themselves follow a Categorical distribution\n",
      "#Since there are N observations, there will be N cluster assignments\n",
      "Z = Categorical(alpha, plates=(N,), name='z')\n"
     ],
     "language": "python",
     "metadata": {},
     "outputs": []
    },
    {
     "cell_type": "markdown",
     "metadata": {},
     "source": [
      "We also want to find the mean vectors and precision matrices of the clusters themselves (the precision matrix is the inverse of the covariance matrix, and is arguably nicer to work with when deriving the math behind this process). The conjugate prior of the mean of a Gaussian distribution is another Gaussian, and we will have exactly K elements in our mean vector, $\\mu$ (each cluster will have its own mean). \n",
      "\n",
      "The conjugate prior of the precision matrix $\\Lambda$ (inverse of the covariance matrix) is a Wishart distribution. (More about [Wishart distributions](http://en.wikipedia.org/wiki/Wishart_distribution)).\n",
      "\n",
      "(Side note: Some people like to put all of this together and talk about a Normal-inverse-Wishart distribution as a conjugate prior for a multivariate Normal distribution with unknown mean and covariance matrix. If you're interested, here's the [Wikipedia article](http://en.wikipedia.org/wiki/Normal-inverse-Wishart_distribution).)\n",
      "\n",
      "So we have:\n",
      "\n",
      "$$P(\\Lambda) = \\prod_{k = 1}^{K} \\mathcal{W}(\\lambda_k \\mid W_0, \\eta_0)$$\n",
      "\n",
      "$$P(\\mu \\mid \\Lambda) = \\prod_{k = 1}^{K} \\mathcal{N}(\\mu_k \\mid m_0, (\\beta_0 \\lambda_k)^{-1})$$"
     ]
    },
    {
     "cell_type": "code",
     "collapsed": false,
     "input": [
      "#This part will only work with Python 3.0\n",
      "\n",
      "from bayespy.nodes import Gaussian, Wishart\n",
      "\n",
      "mu = Gaussian(np.zeros(D), 1e-5*np.identity(D), plates=(K,), name='mu')\n",
      "\n",
      "Lambda = Wishart(D, 1e-5*np.identity(D), plates=(K,), name='Lambda')\n",
      "\n"
     ],
     "language": "python",
     "metadata": {},
     "outputs": []
    },
    {
     "cell_type": "markdown",
     "metadata": {},
     "source": [
      "We know that our data come from a Gaussian mixture distribution, but we don't know anything else. We create a Gaussian mixture distribution object:"
     ]
    },
    {
     "cell_type": "code",
     "collapsed": false,
     "input": [
      "#This part will only work with Python 3.0\n",
      "from bayespy.nodes import Mixture\n",
      "\n",
      " Y = Mixture(Z, Gaussian, mu, Lambda, name='Y') #This is the object\n",
      " Y.observe(obs) #and these are the model observations - the data."
     ],
     "language": "python",
     "metadata": {},
     "outputs": []
    },
    {
     "cell_type": "markdown",
     "metadata": {},
     "source": [
      "Now we randomly initialize our cluster assignments $Z$ to start everything off:"
     ]
    },
    {
     "cell_type": "code",
     "collapsed": false,
     "input": [
      "#This part will only work with Python 3.0\n",
      "Z.initialize_from_random()"
     ],
     "language": "python",
     "metadata": {},
     "outputs": []
    },
    {
     "cell_type": "markdown",
     "metadata": {},
     "source": [
      "Now we're ready to perform inference (get distributional estimates) on the hidden values, given the data:\n",
      "\n",
      "Z (cluster assignments), \n",
      "\n",
      "$\\Lambda$ (the precision matrix), \n",
      "\n",
      "$\\mu$ (the vector of means),\n",
      "\n",
      "$K$ (the number of clusters), and\n",
      "\n",
      "$\\pi$ (the probability of being in a cluster)"
     ]
    },
    {
     "cell_type": "markdown",
     "metadata": {},
     "source": [
      "####Inference####"
     ]
    },
    {
     "cell_type": "markdown",
     "metadata": {},
     "source": [
      "We create a Variational Bayes object (same as variational inference in this case). "
     ]
    },
    {
     "cell_type": "code",
     "collapsed": false,
     "input": [
      "\n",
      "#This part will only work with Python 3.0\n",
      "from bayespy.inference import VB\n",
      "\n",
      "Q = VB(Y, mu, Lambda, Z, alpha)\n",
      "\n",
      "Q.update(repeat=1000)\n",
      "\n",
      "#This is the output:\n",
      "#Iteration 1: loglike=-1.402345e+03 (... seconds)\n",
      "#...\n",
      "#Iteration 61: loglike=-8.888464e+02 (... seconds)\n",
      "#Converged at iteration 61.\n"
     ],
     "language": "python",
     "metadata": {},
     "outputs": []
    },
    {
     "cell_type": "markdown",
     "metadata": {},
     "source": [
      "All of the results can be visualized in the following plot:\n",
      "    \n",
      "<img src=\"https://github.com/caugusta/variational-inference/raw/master/FromOnline2.png\" alt=\"\" style=\"width:500px\">"
     ]
    },
    {
     "cell_type": "markdown",
     "metadata": {},
     "source": [
      "So the algorithm has found all four clusters, and has figured out the cluster means and covariances, visualized by the ellipsoids. It has also figured out which observations belong to each cluster, with a few expections. It's clear that it would be hard to figure out the cluster assignment for the data point on the far right, for example."
     ]
    },
    {
     "cell_type": "markdown",
     "metadata": {},
     "source": [
      "### Conclusion ###\n",
      "\n",
      "Variational inference is useful when the posterior distribution is intractable. It is similar to several methods, like the EM (expectation-maximization) algorithm, especially for mixtures of Gaussians. According to Bishop (2006), there are some advantages to variational inference over the EM algorithm:\n",
      "\n",
      "1. The singularities that we see in the (frequentist) EM algorithm do not arise in this Bayesian treatment.\n",
      "\n",
      "2. If we choose a large number of initial clusters (here we chose K = 10), we don't have to worry about overfitting. \n",
      "\n",
      "3. Finding the optimal value of K did not require the extra step of cross-validation.\n",
      "\n",
      "Variational methods have been extended beyond the mean-field assumption, and have been extended to stochastic versions (see Hoffman et al 2013). Future work lies in moving away from exponential family distributions, finding theoretical guarantees in the stochastic algorithm, and more."
     ]
    },
    {
     "cell_type": "markdown",
     "metadata": {},
     "source": [
      "### References ###\n",
      "\n",
      "Bishop, C.M. (2006) Pattern Recognition and Machine Learning. Springer.\n",
      "\n",
      "Bishop, C.M. (1998) Variational Learning in Graphical Models and Neural Networks.  Proceedings 8th International Conference on Artificial Neural Networks, ICANN'98, L.Niklasson et al. (eds), Springer (1998) 1, 13-22.\n",
      "\n",
      "Brodersen, K.H. Variational Bayesian Inference. [Online] http://people.inf.ethz.ch/bkay/talks/Brodersen_2013_03_22.pdf\n",
      "\n",
      "Feng, Z. Assignment 3, STAT 6841: Statistical Inference. Winter 2015. University of Guelph. Guelph, ON, Canada.\n",
      "\n",
      "Hoffman et al (2013). Stochastic Variational Inference. Journal of Machine Learning Research (14), 1303-1347.\n",
      "\n",
      "Jaakko Luttinen and Hannu Hartikainen. BayesPy. http://www.bayespy.org/examples/gmm.html\n",
      "\n",
      "Munroe, R. xkcd. Frequentists vs Bayesians. http://xkcd.com/1132/\n",
      "\n",
      "R dataset (Faithful). R Core Team (2013). R: A language and environment for statistical computing. R Foundation for Statistical Computing, Vienna, Austria. URL http://www.R-project.org/.\n",
      "\n",
      "Sridharan, R. Gaussian Mixture Models and the EM Algorithm. http://people.csail.mit.edu/rameshvs/content/gmm-em.pdf"
     ]
    }
   ],
   "metadata": {}
  }
 ]
}