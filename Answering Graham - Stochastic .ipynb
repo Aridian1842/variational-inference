{
 "metadata": {
  "name": "",
  "signature": "sha256:562f65c4a8f36919db50c448b39639ff01d911078796c0350e711f771dac198b"
 },
 "nbformat": 3,
 "nbformat_minor": 0,
 "worksheets": [
  {
   "cells": [
    {
     "cell_type": "markdown",
     "metadata": {},
     "source": [
      "####Maximizing the ELBO with respect to the variational parameters ####\n",
      "\n",
      "Here is our objective function, now that everything has (finally!) been defined:\n",
      "\n",
      "$$\\mathcal{L}(\\lambda, \\phi_{1:n}) =  E_Q \\left[{\\rm{ln\\ }} P(\\beta, z, x)\\right] - E_Q \\left[{\\rm{ln\\ }} {Q(\\beta, z)}\\right]$$"
     ]
    },
    {
     "cell_type": "markdown",
     "metadata": {},
     "source": [
      "remember that maximizing this lower bound is the same as finding the distribution $Q(\\beta, z)$ that is closest in KL divergence to the true posterior distribution."
     ]
    },
    {
     "cell_type": "markdown",
     "metadata": {},
     "source": [
      "To maximize this function we need to resort to numerical methods (big surprise), and use coordinate ascent. To do this, we hold all parameters fixed but one, then perform coordinate ascent on that parameter, and move on to the next parameter and so on. Note this could all be parallelized, because all of the hidden variables were assumed indepedent."
     ]
    },
    {
     "cell_type": "markdown",
     "metadata": {},
     "source": [
      "This means we have to take the gradient of $\\mathcal{L}(\\lambda, \\phi_{1:n})$ with respect to each variational parameter. Without going into derivations, here are the gradients we need:"
     ]
    },
    {
     "cell_type": "markdown",
     "metadata": {},
     "source": [
      "Original equation: $$\\nabla_\\lambda \\mathcal{L} = a''(\\lambda) E_\\phi \\left[\\eta_g (x, z) \\right] - \\lambda $$"
     ]
    },
    {
     "cell_type": "markdown",
     "metadata": {},
     "source": [
      "Fixed: $$\\nabla_\\lambda \\mathcal{L} = a''(\\lambda) \\left\\{E_\\phi \\left[\\eta_g (x, z) \\right] - \\lambda \\right\\}$$"
     ]
    },
    {
     "cell_type": "code",
     "collapsed": false,
     "input": [],
     "language": "python",
     "metadata": {},
     "outputs": []
    }
   ],
   "metadata": {}
  }
 ]
}