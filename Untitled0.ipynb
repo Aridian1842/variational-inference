{
 "metadata": {
  "name": "",
  "signature": "sha256:acd954ad966e57710b808ad391db39620b5d2047e253e013f7d6524ed8ccb112"
 },
 "nbformat": 3,
 "nbformat_minor": 0,
 "worksheets": [
  {
   "cells": [
    {
     "cell_type": "code",
     "collapsed": false,
     "input": [
      "%%latex\n",
      "\n",
      "{\\rm{RTP: ln\\ }} P(X) = \\mathcal{L}(Q(Z \\mid X)) + KL(Q(Z \\mid X) \\ \\| \\ P(Z \\mid X))\n",
      "\n",
      "\\begin{align}\n",
      "\\mathcal{L}(Q) &= \\int_Z Q(Z \\mid X) ln {\\displaystyle{\\frac{{\\rm{ln\\ }P(X,Z)}{Q(Z \\mid X}}\n",
      "&= \\int_Z Q(Z \\mid X) ln {\\displaystyle{\\frac{{\\rm{ln\\ }P(X \\mid Z)P(Z)}{Q(Z \\mid X}}\n",
      "\n",
      "\\end{align}\n"
     ],
     "language": "python",
     "metadata": {},
     "outputs": [
      {
       "latex": [
        "\n",
        "{\\rm{RTP: ln\\ }} P(X) = \\mathcal{L}(Q(Z \\mid X)) + KL(Q(Z \\mid X) \\ \\| \\ P(Z \\mid X))\n",
        "\n",
        "\\begin{align}\n",
        "\\mathcal{L}(Q) &= \\int_Z Q(Z \\mid X) ln {\\displaystyle{\\frac{{\\rm{ln\\ }P(X,Z)}{Q(Z \\mid X}}\n",
        "&= \\int_Z Q(Z \\mid X) ln {\\displaystyle{\\frac{{\\rm{ln\\ }P(X \\mid Z)P(Z)}{Q(Z \\mid X}}\n",
        "\n",
        "\\end{align}"
       ],
       "metadata": {},
       "output_type": "display_data",
       "text": [
        "<IPython.core.display.Latex at 0x101f959d0>"
       ]
      }
     ],
     "prompt_number": 4
    },
    {
     "cell_type": "code",
     "collapsed": false,
     "input": [],
     "language": "python",
     "metadata": {},
     "outputs": []
    }
   ],
   "metadata": {}
  }
 ]
}