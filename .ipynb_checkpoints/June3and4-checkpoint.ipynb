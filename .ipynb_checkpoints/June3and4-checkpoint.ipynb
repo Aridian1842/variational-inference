{
 "metadata": {
  "name": "",
  "signature": "sha256:3a23469ac852aa3e17df5431585d2787b2707c33e9423e25c6bd622871a41b0d"
 },
 "nbformat": 3,
 "nbformat_minor": 0,
 "worksheets": [
  {
   "cells": [
    {
     "cell_type": "markdown",
     "metadata": {
      "slideshow": {
       "slide_type": "slide"
      }
     },
     "source": [
      "##The Expectation-Maximization (EM) Algorithm##\n",
      "\n",
      "EM arises as a limiting case of VB. In particular, EM and VB are equivalent when the approximate posterior distribution is constrained to be a point mass (Bayesian Data Analysis, 3rd Edition, Gelman et al).\n",
      "\n",
      "In the EM algorithm, the number of clusters must be specified a priori, unless of course we want to use a separate algorithm to decide the number of clusters based on the data before running EM.\n",
      "\n",
      "Keeping the example of four bivariate Gaussian clusters, the algorithm for EM in the case of a (Bayesian) Gaussian mixture model can be paraphrased from Bishop (2006):\n",
      "\n",
      "Until convergence:\n",
      "\n",
      "1. Draw from the conjugate priors for the mean $\\mu$, and precision $\\Lambda$ of each component, and for the mixture probabilities $\\pi$. Evaluate the log likelihood $\\ell$.\n",
      "\n",
      "2. Using these simulated values, calculate the responsibilities $\\gamma_k$ for each component k. This is the E-step, as it involves an expectation:\n",
      "\n",
      "3. Using the responsibilities, estimate $\\mu$, $\\Lambda$, and $\\pi$ using the maximum likelihood estimates:\n",
      "\n",
      "4. Evaluate the log likelihood and check for convergence. That is, if $\\ell_t - \\ell_{t-1} \\lt \\epsilon$, stop iterating."
     ]
    },
    {
     "cell_type": "markdown",
     "metadata": {
      "slideshow": {
       "slide_type": "slide"
      }
     },
     "source": [
      "In Python:"
     ]
    },
    {
     "cell_type": "code",
     "collapsed": false,
     "input": [
      "#http://scikit-learn.org/stable/auto_examples/mixture/plot_gmm.html\n",
      "\n",
      "import itertools\n",
      "\n",
      "import numpy as np\n",
      "from scipy import linalg\n",
      "import matplotlib.pyplot as plt\n",
      "import matplotlib as mpl\n",
      "%matplotlib inline  \n",
      "from sklearn import mixture\n",
      "\n",
      "# Number of samples per component\n",
      "n_samples = 400\n",
      "\n",
      "# Generate random sample, two components\n",
      "np.random.seed(0)\n",
      "C = np.array([[0., -0.1], [1.7, .4]])\n",
      "#X = np.r_[np.dot(np.random.randn(n_samples, 2), C),\n",
      "#          .7 * np.random.randn(n_samples, 2) + np.array([-6, 3])]\n",
      "#\n",
      "#print X\n",
      "\n",
      "y0 = np.random.multivariate_normal([0, 0], [[1, 0], [0, 1]], size=100)\n",
      "y1 = np.random.multivariate_normal([10, 10], [[1, 0], [0, 1]], size=100)\n",
      "y2 = np.random.multivariate_normal([5, 5], [[1, 0], [0, 1]], size=100)\n",
      "y3 = np.random.multivariate_normal([-2, 8], [[1, 0], [0, 1]], size=100)\n",
      "y = np.vstack([y0, y1, y2, y3])\n",
      "\n",
      "## Fit a mixture of Gaussians with EM using four components\n",
      "gmm = mixture.GMM(n_components=4, covariance_type='full')\n",
      "gmm.fit(y)\n",
      "#\n",
      "## Fit a Dirichlet process mixture of Gaussians using four components\n",
      "dpgmm = mixture.DPGMM(n_components=5, covariance_type='full')\n",
      "dpgmm.fit(y)\n",
      "#\n",
      "color_iter = itertools.cycle(['r', 'g', 'b', 'c'])\n",
      "#\n",
      "for i, (clf, title) in enumerate([(gmm, 'GMM'),\n",
      "                                  (dpgmm, 'Dirichlet Process GMM')]):\n",
      "    splot = plt.subplot(2, 1, 1 + i)\n",
      "    Y_ = clf.predict(y) #predicts cluster label\n",
      "\n",
      "    for i, (mean, covar, color) in enumerate(zip(\n",
      "            clf.means_, clf._get_covars(), color_iter)):\n",
      "        v, w = linalg.eigh(covar)\n",
      "        u = w[0] / linalg.norm(w[0])\n",
      "    # as the DP will not use every component it has access to\n",
      "        # unless it needs it, we shouldn't plot the redundant\n",
      "        # components.\n",
      "        if not np.any(Y_ == i):\n",
      "            continue\n",
      "        plt.scatter(y[Y_ == i, 0], y[Y_ == i, 1], .8, color=color)\n",
      "\n",
      "        # Plot an ellipse to show the Gaussian component\n",
      "        angle = np.arctan(u[1] / u[0])\n",
      "        angle = 180 * angle / np.pi  # convert to degrees\n",
      "        ell = mpl.patches.Ellipse(mean, v[0], v[1], 180 + angle, color=color)\n",
      "        ell.set_clip_box(splot.bbox)\n",
      "        ell.set_alpha(0.5)\n",
      "        splot.add_artist(ell)\n",
      "\n",
      "    plt.xlim(min(y[:,0]), max(y[:,0]))\n",
      "    plt.ylim(min(y[:,1]), max(y[:,1]))\n",
      "    plt.xticks(())\n",
      "    plt.yticks(())\n",
      "    plt.title(title)\n",
      "#\n",
      "plt.show()"
     ],
     "language": "python",
     "metadata": {
      "slideshow": {
       "slide_type": "subslide"
      }
     },
     "outputs": [
      {
       "metadata": {},
       "output_type": "display_data",
       "png": "[encoded data removed]",
       "text": [
        "<matplotlib.figure.Figure at 0x10077e610>"
       ]
      }
     ],
     "prompt_number": 5
    },
    {
     "cell_type": "markdown",
     "metadata": {},
     "source": [
      "### Expectation Maximization as a limiting case of Variational inference ###\n",
      "\n",
      "The EM algorithm is usually used to find maximum likelihood estimates of the model parameters. In a Bayesian setting, however, the EM algorithm can be used for maximum a posteriori (MAP) estimation. One advantage of Bayesian EM is that the singularities that arise in GMM estimation disappear due to the influence of the prior distribution (Bishop 2006). As the number of samples approaches infinity, by the Central Limit Theorem the posterior of each model parameter becomes strongly peaked about its mean (this makes sense - the variance decreases as the sample size increases) (Attias, 1999). The algortihm for MAP estimation is slightly different than that for maximum likelihood, purely because of the prior distribution. "
     ]
    },
    {
     "cell_type": "markdown",
     "metadata": {},
     "source": [
      "Using notation from Bishop (2006), say we have a joint distribution over the hidden (Z) and visible (X) variables, and model parameters $\\theta$. If we wanted to do maximum likelihood estimation analytically, we would define the log likelihood function for the observed data given the model parameters and take derivatives and solve in the usual way. That log likelihood would have this form:\n",
      "\n",
      "$${\\rm{ln\\ }} P(X \\mid \\theta) = {\\rm{ln}}\\left\\{ \\sum_Z p(X, Z \\mid \\theta) \\right\\}$$\n",
      "\n",
      "We can't evaluate this likelihood analytically because of that annoying sum over the hidden states that appears inside the logarithm. As stated in Bishop (2006), if the model distribution is part of the exponential family (which would be nice), this log of a sum operation means that the posterior distribution ${\\rm{ln\\ }} P(X \\mid \\theta)$ doesn't necessarily belong to the exponential family. The maximum likelihood solutions will not have very nice forms.\n",
      "\n",
      "Suppose instead that we're told the latent state Z that corresponds to each value X. Then we have an expression for the complete data log likelihood (over the visible and hidden states): ${\\rm{ln\\ }} p(X, Z \\mid \\theta)$. The problem is that in practice, we don't know the values of Z. We can, however, quantify our knowledge of Z via the posterior distribution $p(Z \\mid X, \\theta)$. Instead of using the complete data log likelihood, which we don't know, we approximate it using the posterior for Z. \n",
      "\n",
      "We initialize the parameters $\\theta$ - call this $\\theta_c$. Then in the E-step, we take the expectation of the complete data log likelihood under the posterior distribution of Z, using the current setting of the model parameters:\n",
      "\n",
      "$Q(\\theta, \\theta_c) = \\sum\\limits_Z p(Z \\mid X, \\theta_c) {\\rm{ln\\ }}p(X, Z \\mid \\theta)$\n",
      "\n",
      "Then in the M-step, we maximize this function $Q$ with respect to $\\theta$."
     ]
    },
    {
     "cell_type": "markdown",
     "metadata": {},
     "source": [
      "#### Algorithm for General EM ####\n",
      "\n",
      "\n",
      "1. Initialize model parameters $\\theta_c$\n",
      "2. E-step: evaluate $p(Z \\mid X, \\theta_c)$\n",
      "3. M-step: evaluate $\\theta_{new}$:\n",
      "\n",
      "    $$\\theta_{new} = {\\rm{argmax}}_{\\theta} Q(\\theta, \\theta_c)$$\n",
      "\n",
      "    where\n",
      "\n",
      "    $$Q(\\theta, \\theta_c) = \\sum\\limits_Z p(Z \\mid X, \\theta_c) {\\rm{\\ ln\\ }} p(X, Z \\mid \\theta)$$\n",
      "4. Check for convergence: \n",
      "\n",
      "    If ${\\rm{ln\\ }}p(X \\mid \\theta_{new}) -  {\\rm{ln\\ }}p(X \\mid \\theta_{c}) < \\epsilon_1$ \n",
      "\n",
      "    or $\\theta_{new} - \\theta_{c} < \\epsilon_2$\n",
      "\n",
      "    then stop. \n",
      "    \n",
      "    Else let $\\theta_c = \\theta_{new}$ and go back to step 2.\n",
      "    "
     ]
    },
    {
     "cell_type": "markdown",
     "metadata": {},
     "source": [
      "In MAP estimation, we define a prior distribution over the model parameters $\\theta$. So the function that we need to maximize in the M-step becomes:\n",
      "    \n",
      "\n",
      "$$Q(\\theta, \\theta_c) = \\sum\\limits_Z p(Z \\mid X, \\theta_c) {\\rm{\\ ln\\ }} p(X, Z \\mid \\theta) + {\\rm{ln\\ }}p(\\theta)$$\n",
      "\n",
      "\n"
     ]
    },
    {
     "cell_type": "markdown",
     "metadata": {},
     "source": [
      "### Moving from EM to VB ###\n",
      "\n",
      "Recall the (usual) goal of EM is to maximize the log likelihood of the data given the model parameters. The log likelihood ${\\rm{ln\\ }} p(x \\mid \\theta)$ can be decomposed in the following way:\n",
      "\n",
      "\n",
      "\\begin{align}\n",
      "{\\rm{ln}}\\ P(X \\mid \\theta) &= {\\rm{ln}} \\sum_Z P(X, Z \\mid \\theta)  {\\hspace{0.5in} \\rm {\\ by\\ conditional\\ probability}} \\\\[0.5em]\n",
      "&= {\\rm{ln}} \\sum_Z \\frac{P(X, Z \\mid \\theta)}{Q(Z)}Q(Z) \\\\[0.5em]\n",
      "&= {\\rm{ln\\ }} E_Q \\left[\\frac{P(X, Z \\mid \\theta)}{Q(Z)} \\right] {\\hspace{0.5in} \\rm{\\, since\\ E_X(g(X)) = \\sum_x g(x)f(x) dx,\\ by\\ definition,\\ taking\\ the\\ expectation\\ with\\ respect\\ to\\ Q(Z)}}\\\\[0.5em]\n",
      "&\\ge E_Q\\ {\\rm{ln}} \\left[\\frac{P(X, Z \\mid \\theta)}{Q(Z)} \\right] {\\hspace{0.5in} \\rm{\\, by\\ Jensen's\\ Inequality}} \\\\[0.5em]\n",
      "&= E_Q \\left[{\\rm{ln\\ }} P(X, Z \\mid \\theta)\\right] - E_Q \\left[{\\rm{ln\\ }} {Q(Z)}\\right] \\\\[0.5em]\n",
      "&= {\\mathcal{L}}(Q , \\theta) \\\\\n",
      "\\end{align}\n"
     ]
    },
    {
     "cell_type": "markdown",
     "metadata": {},
     "source": [
      "We can also notice the difference between the log likelihood and the lower bound is the KL divergence between the approximating (variational) distribution $Q$ and the true posterior distribution $p(Z\\mid X)$"
     ]
    },
    {
     "cell_type": "markdown",
     "metadata": {},
     "source": [
      "Proof:\n",
      "\n",
      "Rewrite $\\mathcal{L}(Q , \\theta)$ as \n",
      "\n",
      "\\begin{align}\n",
      "\\mathcal{L}(Q , \\theta) &= E_Q \\left[{\\rm{ln\\ }} P(X, Z \\mid \\theta)\\right] - E_Q \\left[{\\rm{ln\\ }} {Q(Z)}\\right] \\\\[0.5em]\n",
      "&= \\sum\\limits_Z Q(Z) {\\rm{\\ ln\\ }} P(X, Z \\mid \\theta) - \\sum\\limits_Z Q(Z) {\\rm{\\ ln\\ }} Q(Z) \\\\[0.5em]\n",
      "&= \\sum\\limits_Z Q(Z) {\\rm{\\ ln\\ }} \\frac{P(X, Z \\mid \\theta)}{Q(Z)} \\\\[0.5em]\n",
      "&= \\sum\\limits_Z Q(Z) {\\rm{\\ ln\\ }} \\frac{P(Z \\mid X, \\theta)P(X \\mid \\theta)}{Q(Z)} \\\\[0.5em]\n",
      "& = \\sum\\limits_Z Q(Z) \\left\\{{\\rm{\\ ln\\ }} P(Z \\mid X, \\theta) + {\\rm{\\ ln\\ }} P(X \\mid \\theta) - {\\rm{\\ ln\\ }}{Q(Z)}\\right\\} \\\\[0.5em]\n",
      "\\end{align}\n",
      "    "
     ]
    },
    {
     "cell_type": "markdown",
     "metadata": {},
     "source": [
      "and notice that the KL divergence is defined as:\n",
      "    \n",
      "$${\\rm{KL}}(Q || P) = -\\sum\\limits_Z Q(Z) {\\rm{\\ ln\\ }}\\frac{P(Z \\mid X, \\theta)}{Q(Z)}$$"
     ]
    },
    {
     "cell_type": "markdown",
     "metadata": {},
     "source": [
      "So:\n",
      "\\begin{align}    \n",
      "\\mathcal{L}(Q , \\theta) + {\\rm{KL}}(Q || P) &= \\sum\\limits_Z Q(Z) \\left\\{{\\rm{\\ ln\\ }} P(Z \\mid X, \\theta) + {\\rm{\\ ln\\ }} P(X \\mid \\theta) - {\\rm{\\ ln\\ }}{Q(Z)}\\right\\} -\\sum\\limits_Z Q(Z) {\\rm{\\ ln\\ }}\\frac{P(Z \\mid X, \\theta)}{Q(Z)} \\\\[0.5em]\n",
      "& = \\sum\\limits_Z Q(Z) \\left\\{{\\rm{\\ ln\\ }} P(Z \\mid X, \\theta) + {\\rm{\\ ln\\ }} P(X \\mid \\theta) - {\\rm{\\ ln\\ }}{Q(Z)}\\right\\} -\\sum\\limits_Z Q(Z) {\\rm{\\ ln\\ }}P(Z \\mid X, \\theta) + \\sum\\limits_ZQ(Z) {\\rm{\\ ln\\ }}{Q(Z)} \\\\[0.5em]\n",
      "&= \\sum\\limits_Z Q(Z){\\rm{\\ ln\\ }} P(X \\mid \\theta) \\\\[0.5em]\n",
      "& = {\\rm{\\ ln\\ }} P(X \\mid \\theta)\n",
      "\\end{align}"
     ]
    },
    {
     "cell_type": "markdown",
     "metadata": {},
     "source": [
      "since ${\\rm{\\ ln\\ }} P(X \\mid \\theta)$ is independent of Z, and since $\\sum\\limits_Z Q(Z) = 1$, since $Q(Z)$ is a probability mass function. QED"
     ]
    },
    {
     "cell_type": "markdown",
     "metadata": {},
     "source": [
      "So we have $${\\rm{\\ ln\\ }} P(X \\mid \\theta) = \\mathcal{L}(Q , \\theta) + {\\rm{KL}}(Q || P)$$\n",
      "\n",
      "To maximize the log likelihood, ${\\rm{\\ ln\\ }} P(X \\mid \\theta)$, we need to maximize the lower bound or minimize the KL divergence between the distribution $Q(Z)$ and $P(Z| X, \\theta)$. Remember the KL divergence is never less than 0, so the log likelihood will always be at least $\\mathcal{L}(Q , \\theta)$ (so $\\mathcal{L}(Q , \\theta)$ is a lower bound on the log likelihood). For later, note:\n",
      "\n",
      "$$\\mathcal{L}(Q , \\theta) =  {\\rm{\\ ln\\ }} P(X \\mid \\theta) - {\\rm{KL}}(Q || P)$$\n",
      "\n",
      "so $\\mathcal{L}(Q , \\theta)$ is maximized when ${\\rm{KL}}(Q || P)$ is 0."
     ]
    },
    {
     "cell_type": "markdown",
     "metadata": {},
     "source": [
      "Now we can use this decomposition to define the EM algorithm:\n",
      "\n",
      "#### Algorithm for General EM using the log likelihood decomposition####\n",
      "\n",
      "\n",
      "1. Initialize model parameters $\\theta_c$\n",
      "2. E-step: holding $\\theta_c$ constant, maximize $\\mathcal{L}(Q, \\theta_c)$ with respect to $Q(Z)$. \n",
      "\n",
      "Note this is the same as the old E-step of evaluating $p(Z \\mid X, \\theta_c)$, since $\\mathcal{L}(Q, \\theta_c)$ is maximized when $Q(Z)$ is equal to $p(Z \\mid X, \\theta_c)$ (since this makes ${\\rm{KL}}(Q || P)$ = 0). The lower bound is then equal to the log likelihood.\n",
      "\n",
      "\n",
      "3. M-step: hold Q(Z) fixed and maximize $\\mathcal{L}(Q, \\theta)$ with respect to $\\theta$. \n",
      "\n",
      "Note this is the same as the old M-step of maximizing the expected complete data log likelihood, since (starting from the definition of the lower bound):\n",
      "\n",
      "\\begin{align}\n",
      "\\mathcal{L}(Q, \\theta) &= \\sum\\limits_Z Q(Z) {\\rm{\\ ln\\ }} P(X, Z \\mid \\theta) - \\sum\\limits_Z Q(Z) {\\rm{\\ ln\\ }} Q(Z) \\\\[0.5em]\n",
      "&= \\sum\\limits_Z P(Z \\mid X, \\theta_c) {\\rm{\\ ln\\ }} P(X, Z \\mid \\theta) - \\sum\\limits_Z P(Z \\mid X, \\theta_c) {\\rm{\\ ln\\ }} P(Z \\mid X, \\theta_c){\\rm{\\ substituting\\ after\\ the\\ E-step}} \\\\[0.5em]\n",
      "&= Q(\\theta, \\theta_c) + {\\rm{constant}}\n",
      "\\end{align}\n",
      "\n",
      "where the constant is the entropy of the Q(Z) distribution, which is independent of $\\theta$.\n",
      "\n",
      "<!--\n",
      "We get a value $\\theta_{new}$, which means $KL(Q || P)$ is now nonzero because Q is being held fixed under $\\theta_c$, and the new posterior distribution will be $P(Z \\mid X, \\theta_{new})$. So the log likelihood ${\\rm{\\ ln\\ }} P(X \\mid \\theta)$ will increase\n",
      "-->\n",
      "\n",
      "evaluate $\\theta_{new}$:\n",
      "\n",
      "    $$\\theta_{new} = {\\rm{argmax}}_{\\theta} Q(\\theta, \\theta_c)$$\n",
      "\n",
      "    where\n",
      "\n",
      "    $$Q(\\theta, \\theta_c) = \\sum\\limits_Z p(Z \\mid X, \\theta_c) {\\rm{\\ ln\\ }} p(X, Z \\mid \\theta)$$\n",
      "4. Check for convergence: \n",
      "\n",
      "    If ${\\rm{ln\\ }}p(X \\mid \\theta_{new}) -  {\\rm{ln\\ }}p(X \\mid \\theta_{c}) < \\epsilon_1$ \n",
      "\n",
      "    or $\\theta_{new} - \\theta_{c} < \\epsilon_2$\n",
      "\n",
      "    then stop. \n",
      "    \n",
      "    Else let $\\theta_c = \\theta_{new}$ and go back to step 2.\n",
      "\\end{enumerate} "
     ]
    },
    {
     "cell_type": "markdown",
     "metadata": {},
     "source": [
      "#### But what happens if the posterior distribution is intractable? ####\n",
      "\n",
      "We relied on letting $Q(Z) = P(Z \\mid X, \\theta_c)$ in the E-step. If $P(Z \\mid X, \\theta_c)$ is intractable, then this step breaks down.\n",
      "\n",
      "So instead of trying to work with the intractable posterior, we use a tractable \"variational posterior\" $Q(Z)$ that is close (in terms of KL divergence) to the true posterior. "
     ]
    },
    {
     "cell_type": "code",
     "collapsed": false,
     "input": [
      "The variational posterior is chosen such that the"
     ],
     "language": "python",
     "metadata": {},
     "outputs": []
    }
   ],
   "metadata": {}
  }
 ]
}