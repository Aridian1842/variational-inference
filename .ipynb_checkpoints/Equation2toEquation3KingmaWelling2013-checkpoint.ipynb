{
 "metadata": {
  "name": "",
  "signature": "sha256:fc02f17aff287f453ad06910ff8fe8b957be82fb1190f50fd02430ca729b25b5"
 },
 "nbformat": 3,
 "nbformat_minor": 0,
 "worksheets": []
}