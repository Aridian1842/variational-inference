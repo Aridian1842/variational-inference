{
 "metadata": {
  "name": "",
  "signature": "sha256:d6e85e5e0bd890f2c30587b0687ecb03821cf8535a6f9e988c2d894e843db72f"
 },
 "nbformat": 3,
 "nbformat_minor": 0,
 "worksheets": [
  {
   "cells": [
    {
     "cell_type": "code",
     "collapsed": false,
     "input": [
      "%%latex\n",
      "\n",
      "\n",
      "\n",
      "\\begin{align}\n",
      "\\mathcal{L}(Q) &= \\int_Z Q(Z \\mid X) ln {\\displaystyle{\\frac{{\\rm{ln\\ }P(X,Z)}{Q(Z \\mid X}}\n",
      "&= \\int_Z Q(Z \\mid X) ln {\\displaystyle{\\frac{{\\rm{ln\\ }P(X \\mid Z)P(Z)}{Q(Z \\mid X}}\n",
      "\n",
      "\\end{align}\n"
     ],
     "language": "python",
     "metadata": {},
     "outputs": [
      {
       "latex": [
        "\n",
        "\n",
        "\n",
        "\\begin{align}\n",
        "\\mathcal{L}(Q) &= \\int_Z Q(Z \\mid X) ln {\\displaystyle{\\frac{{\\rm{ln\\ }P(X,Z)}{Q(Z \\mid X}}\n",
        "&= \\int_Z Q(Z \\mid X) ln {\\displaystyle{\\frac{{\\rm{ln\\ }P(X \\mid Z)P(Z)}{Q(Z \\mid X}}\n",
        "\n",
        "\\end{align}"
       ],
       "metadata": {},
       "output_type": "display_data",
       "text": [
        "<IPython.core.display.Latex at 0x101f93310>"
       ]
      }
     ],
     "prompt_number": 3
    },
    {
     "cell_type": "code",
     "collapsed": false,
     "input": [],
     "language": "python",
     "metadata": {},
     "outputs": []
    }
   ],
   "metadata": {}
  }
 ]
}