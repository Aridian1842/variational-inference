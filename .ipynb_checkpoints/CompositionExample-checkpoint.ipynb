{
 "metadata": {
  "name": "",
  "signature": "sha256:ee239f79f9c12faf2156f9e36ce6cde09adb8664e056b8059cb971082c180f34"
 },
 "nbformat": 3,
 "nbformat_minor": 0,
 "worksheets": [
  {
   "cells": [
    {
     "cell_type": "markdown",
     "metadata": {},
     "source": [
      "### Example of a composition - for Auto-Encoding Variational Bayes ###\n",
      "\n",
      "From Riley Metzger. 15 July 2011. STAT 340: Computer simulation of complex systems. University of Waterloo.\n",
      "\n",
      "#### Quick reminder about compositions ####\n",
      "\n",
      "Let $F(X)$ and $F_{i}(X)$ be CDFs, for all $i \\in \\left\\{1, \\ldots, n \\right\\}$\n",
      "\n",
      "Let $\\alpha_i$ be a constant, for all $i \\in \\left\\{1, \\ldots, n \\right\\}$\n",
      "\n",
      "Then $F(X) = \\sum_{i=1}^{n} \\alpha_{i} F_{i}(X)$ is a composition of the $F_{i}(X)$'s.\n",
      "\n",
      "We'll use capitals to denote random variables (e.g. X) and lower-case letters to denote realizations/samples (e.g. x)."
     ]
    },
    {
     "cell_type": "markdown",
     "metadata": {},
     "source": [
      "#### Example ####\n",
      "\n",
      "Suppose we have a probability density function $f(X=x) = 0.8x + 2.4x^3$ for $0 \\lt x \\lt 1$. How could we generate a sample from a random variable $X$ that has pdf $f(X=x)$?"
     ]
    },
    {
     "cell_type": "markdown",
     "metadata": {},
     "source": [
      "1) Get the CDF. We need this for the Inverse Transform Theorem (IVT).\n",
      "    \n",
      "$F(X) = \\int_{\\infty}^{X} f(X=x) dx = \\int_{\\infty}^{x} (0.8x + 2.4x^3) dx = 0.4x^2 + 0.6x^4$ \n",
      "\n",
      "So $\\alpha_1 = 0.4, F_{1}(X) = x^2, \\alpha_2 = 0.6, F_{2}(X) = x^4$. "
     ]
    },
    {
     "cell_type": "markdown",
     "metadata": {},
     "source": [
      "2) Generate $U_i \\sim U(0,1), V_i \\sim U(0,1)$\n",
      "\n",
      "If $U_i \\lt 0.6$, then generate $x_i = v_i^{1/4}$\n",
      "\n",
      "Else generate $x_i = v_i^{1/2}$\n",
      "\n",
      "(Why? because:\n",
      "\n",
      "We need to decide based on a probability whether we're looking at the first CDF $F_{i}(x)$ or the second CDF $F_{2}(x)$. We accomplish this by looking at $U_i \\sim U(0,1)$.\n",
      "\n",
      "Then we need to build our CDF based on that choice. We generate from an 'easy' distribution, $V_i \\sim U(0,1)$. Then, according to IVT, if we've chosen the second distribution, we want $v_i = x_i^{4}$, which means our sample $x_i$ from the distribution of interest will be $x_i = v_i^{1/4}$. Similarly, if we had chosen the first distribution (the 'else' in the algorithm), then we would have $v_i = x_i^{2}$, so according to IVT the sample we would want would be $x_i = v_i^{1/2}$.\n",
      "\n",
      "That's why!)\n",
      "\n"
     ]
    }
   ],
   "metadata": {}
  }
 ]
}