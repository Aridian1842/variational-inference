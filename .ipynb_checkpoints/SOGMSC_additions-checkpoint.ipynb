{
 "metadata": {
  "name": "",
  "signature": "sha256:c0d49b893bb7c30445512df56f6645a672a743bdc6b27145901f813726f759b1"
 },
 "nbformat": 3,
 "nbformat_minor": 0,
 "worksheets": [
  {
   "cells": [
    {
     "cell_type": "markdown",
     "metadata": {},
     "source": [
      "#An Introduction to Variational Inference#"
     ]
    },
    {
     "cell_type": "markdown",
     "metadata": {},
     "source": [
      "Carolyn Augusta, caugusta@uoguelph.ca"
     ]
    },
    {
     "cell_type": "markdown",
     "metadata": {},
     "source": [
      "\n",
      "\n",
      "------------\n",
      "## Outline ##\n",
      "\n",
      "1. Why we need variational methods\n",
      "2. Mean field variational inference - theory\n",
      "3. Mean field variational inference - example: Variational mixture model\n",
      "4. The EM algorithm and how it relates to mean field variational inference\n",
      "5. Stochastic variational inference\n",
      "6. References\n",
      "\n"
     ]
    },
    {
     "cell_type": "markdown",
     "metadata": {},
     "source": [
      "##1. Why we need variational methods on graphical structures##\n",
      "\n",
      "Inference on probabilistic graphical models can only be performed exactly when the graph structure is relatively limited. For example, the junction tree algorithm is an efficient algorithm for tree models (Bayesian networks that take the form of directed acyclic graphs). Another common form of exact inference on tree models is belief propagation (BP); however, if the graph is densely connected, BP can be computationally infeasible [1 - the book]. \n",
      "\n",
      "On general graph structures, inference is computationally intractable due to the intractability of the normalization constant (also called the partition function, or the free energy). This constant often involves computation of a multidimensional integral, which cannot be evaluated analytically. Numerical methods are then required to arrive at a solution. \n",
      "\n",
      "These numerical methods can be stochastic or deterministic in origin. A popular stochastic method is Markov chain Monte Carlo (MCMC), and its many variants. MCMC methods, though exact, can be slow over large graphical structures. As modelling and inference problems evolve to match the speed of data, approximate inference methods become more ubiquitous. Instead of sampling from the unknown, intractable posterior distribution (as in MCMC), variational methods construct a known distribution to approximate the posterior. The parameters of the known distribution are then chosen to minimize the difference between the posterior and the variational distribution. In this way, we obtain a deterministic approximation to the posterior distribution, often in a faster way than with MCMC methods (although this is a controversial statement).\n",
      "\n",
      "The most widely used class of variational inference algorithms are derived from the so-called 'mean-field approximation' from the statistical physics literature. MCMC also had its origins in statistical physics. \n",
      "\n",
      "\n",
      "\n"
     ]
    },
    {
     "cell_type": "markdown",
     "metadata": {},
     "source": [
      "---------------------------------------\n",
      "### 2. Mean-field variational inference - theory###\n",
      "\n",
      "\n",
      "#### Hidden (latent) variables and mixture distributions ####\n",
      "\n",
      "A hidden or latent variable in a statistical model is a variable that is not directly observed in the process of interest, but whose value is inferred based on observed variables. The classic example comes from a mixture distribution. \n",
      "\n",
      "A mixture distribution results when a random variable could come from one of several subpopulations, or clusters. Say we have $n$ observations from a random variable $X$ (that is, we have $x_1, \\ldots, x_n$). Then each $x_i$ belongs to some cluster. We want to know which cluster $x_i$ came from, but that information is hidden. We only have the observations themselves, not the cluster labels. The plate diagram for a mixture distribution is shown below.\n",
      "\n",
      "<img src=\"https://github.com/caugusta/variational-inference/raw/master/GMM.png\" alt=\"\" style=\"width:500px\">\n",
      "\n",
      "A plate model (above) is a schematic for a model distribution. The plate model is a description of the dependencies in the model distribution. In a plate model, a rectangle with a total (N) in the bottom right indicates that all variables or parameters inside the rectangle (the \"plate\") are indexed from 1 to N. So we have a pictoral representation of $z_n : n = 1, \\ldots, N$ and $x_n : n = 1, \\ldots, N$. The notation for unobserved variables (hidden units, in this case $z_n$) in a plate diagram is an unfilled circle. Observed variables (visible units, in this case $x_n$) are filled circles. Outside the plate are fixed parameters are denoted using a red dot (in this case, $\\pi$, which governs the mixture probability, $\\mu$ and $\\Sigma$, the parameters for each component of the mixture distribution). The arrows between components in the plate model show how each variable or parameter is related. For example, the arrow from $z_n$ to $x_n$ indicates that $x_n$ dependes on $z_n$. Taken as a whole, the plate model shows that the joint (model) distribution $P(x, z \\mid \\pi, \\mu, \\Sigma)$, and illustrates the dependencies in the model.\n",
      "\n",
      "To take an example from R, say we're looking at the Old Faithful dataset. We know the duration of each eruption, and the waiting time to an eruption (both in minutes). Using the example plot from R, we can see that the data follow a bimodal distribution (so you could say there are two clusters):\n",
      "\n",
      "<img src=\"https://github.com/caugusta/variational-inference/raw/master/OldFaithful.png\" alt=\"\" style=\"width:500px\">\n",
      "\n",
      "We could model this process as a mixture distribution with two distributions (clusters): $g_s(X) = N(\\mu_1, \\sigma_1^2)$ and $g_\\ell(X) = N(\\mu_2, \\sigma_2^2)$, where $s$ is for short wait time and $\\ell$ is for long wait time.\n",
      "\n",
      "Suppose we have a sample of eruptions $\\boldsymbol{x} = \\{x_1, \\ldots, x_n\\}$. \n",
      "\n",
      "<!--\n",
      "and we observe their wait times $\\boldsymbol{y} = \\{y_1, \\ldots y_n\\}$. \n",
      "\n",
      "-->\n",
      "\n",
      "We assume there's an unobserved (hidden) cluster label $Z_i = \\{{\\rm{Short, Long}}\\}$, with one realization per wait time, $\\boldsymbol{z} = \\{z_1, \\ldots z_n\\}$.\n",
      "\n",
      "The distribution of cluster labels is Bernoulli$(\\pi)$ (since it can only be 1 of 2 possible clusters - if we had more clusters, we would use a Categorical distribution).\n",
      "\n",
      "\n",
      "$$P(Z) = \\prod_{i=1}^{n} P(Z_i \\mid \\pi) = \\prod_{i=1}^{n} \\pi^{Z_i} (1 - \\pi)^{1 - Z_i}$$\n",
      "\n",
      "where\n",
      "\n",
      "\\begin{equation}\n",
      "    Z_i = \n",
      "    \\begin{cases}\n",
      "      1, & {\\rm{if\\ }} x_i {\\rm{\\ is\\ Short}}\\  \\\\\n",
      "      0, & \\text{otherwise}\n",
      "    \\end{cases}\n",
      "  \\end{equation}\n",
      "\n",
      "and $$P(Z_i = {\\rm{Short}}) = \\pi$$\n",
      "\n",
      "\n",
      "\n",
      "The probability that we'd get a wait time from the first cluster is proportional to the area under the left hand curve. Similar for the right handed curve. The distribution of wait times (regardless of the cluster labels) can be represented as a mixture of normal distributions:\n",
      "\n",
      "$$P(X) = P(X_1=x_1, X_2 = x_2, \\ldots X_n = x_n) = \\prod_{i=1}^{n} \\left( \\pi g_s(x_i) + (1 - \\pi) g_\\ell(x_i) \\right)$$\n",
      "\n",
      "We also know the likelihood, since:\n",
      "\n",
      "$$X_i \\mid (Z_i = 1) \\sim g_s (x_i)$$\n",
      "\n",
      "$$X_i \\mid (Z_i = 0) \\sim g_\\ell (x_i)$$\n",
      "\n",
      "$$P(X \\mid Z) = \\prod_{i=1}^{n} \\left(g_s(x_i)^{z_i} + g_\\ell(x_i)^{1 - z_i} \\right)$$\n",
      "\n",
      "\n",
      "So we have the normalization constant $P(X)$, the likelihood $P(X \\mid Z)$, and the prior $P(Z)$. The cluster label $z_i$ is hidden. If we wanted to infer it based on the data we have, then we could use variational inference (although the posterior distribution $P(Z \\mid X)$ in this case is tractable, so we could just use Bayes' Theorem).\n",
      "\n",
      "\n",
      "\n",
      "<!--\n",
      "The only thing is, these distributions clearly overlap! If we draw $x = 68$ from this distribution, it's not clear whether $x$ came from the first subpopulation or the second. So the identity of the distribution from which $x$ came is a hidden variable.\n",
      "\n",
      "-->\n",
      "\n"
     ]
    },
    {
     "cell_type": "markdown",
     "metadata": {},
     "source": [
      "#### The Mean Field Assumption ####\n",
      "\n",
      "In statistical physics, mean field theory has long been used to model complex systems using relatively simple ones. A huge assumption is made, though, that all of the hidden variables $Z_1, Z_2, \\ldots, Z_n$ are mutually independent. This is often a bad assumption, because in reality there are a lot of ways for the model to have dependencies. However, the mean field (independence) assumption has some nice properties, so that'll be the focus of today's presentation.\n",
      "\n"
     ]
    },
    {
     "cell_type": "markdown",
     "metadata": {},
     "source": [
      "<!--\n",
      "Remember, the posterior distribution $P(Z \\mid X)$ is intractable because the normalizing constant, $P(X)$ is intractable. We want to approximate this intractable posterior distribution with some known, nice function $Q$ (called the \"variational distribution\"). So:\n",
      "\n",
      "$$P(Z \\mid X) \\approx Q(Z)$$\n",
      "\n",
      "Using the mean field assumption, we'll assume Q is a factorized distribution. That is, we'll assume:\n",
      "\n",
      "$$Q(Z) = \\prod_{i=1}^n Q_i(Z_i)$$\n",
      "\n",
      "We have the likelihood (from the data and the model) and the prior (because we can always specify one). So the only thing to cover now is the normalization constant, $P(X)$. \n",
      "-->\n",
      "\n",
      "####The lower bound on the normalization constant ####\n",
      "\n",
      "\n",
      "To get to the objective function in mean-field variational inference, we need to minimize the distance between an approximating distribution $Q$ (called the \"variational distribution\") and the true posterior distribution $P(Z \\mid X)$. To do this, we need to get an appropriate distance metric. The distance metric we'll use is based on maximizing the log probability of the data regardless of the hidden variables (the log normalization constant, ${\\rm{ln\\ }} P(X)$). Remember any time a statistician says log, they usually mean ln. We can get a lower bound on the normalization constant in the following way:\n",
      "\n",
      "\n"
     ]
    },
    {
     "cell_type": "markdown",
     "metadata": {},
     "source": [
      "\\begin{align}\n",
      "{\\rm{ln}}\\ P(X) &= {\\rm{ln}} \\int_Z P(X \\mid Z)P(Z)\\ dZ \\\\[0.5em]\n",
      "&= {\\rm{ln}} \\int_Z P(X, Z)\\ dZ  {\\hspace{0.5in} \\rm {\\ by\\ conditional\\ probability}} \\\\[0.5em]\n",
      "&= {\\rm{ln}} \\int_Z \\frac{P(X, Z)}{Q(Z \\mid X)}Q(Z \\mid X)\\ dZ \\\\[0.5em]\n",
      "&= {\\rm{ln\\ }} E_Q \\left[\\frac{P(X, Z)}{Q(Z \\mid X)} \\right] {\\hspace{0.5in} \\rm{\\, since\\ E_X(g(X)) = \\int_x g(x)f(x) dx,\\ by\\ definition,\\ taking\\ the\\ expectation\\ with\\ respect\\ to\\ Q(Z)}}\\\\[0.5em]\n",
      "&\\ge E_Q\\ {\\rm{ln}} \\left[\\frac{P(X, Z)}{Q(Z \\mid X)} \\right] {\\hspace{0.5in} \\rm{\\, by\\ Jensen's\\ Inequality}} \\\\[0.5em]\n",
      "&= E_Q \\left[{\\rm{ln\\ }} P(X, Z)\\right] - E_Q \\left[{\\rm{ln\\ }} {Q(Z \\mid X)}\\right] \\\\[0.5em]\n",
      "&= {\\mathcal{L}}(Q) \\\\\n",
      "\\end{align}"
     ]
    },
    {
     "cell_type": "markdown",
     "metadata": {},
     "source": [
      "The first expected value term here is the expected value of the log joint distribution, which is our model distribution. The second expected value term is the entropy of $Q$. The two terms together constitute a lower bound on the normalization constant. This lower bound, denoted $\\mathcal{L}(Q)$ is also called the \"expectation lower bound\", or ELBO. Also note, when I write $Q$, or $Q(Z)$, I mean $Q(Z \\mid X)$, it's just nicer notation.\n",
      "\n",
      "Aside: Jensen's Inequality applied here is ${\\rm{ln}}(E(X)) \\ge E({\\rm{ln}} (X))$, and more information is available [here](http://en.wikipedia.org/wiki/Jensen's_inequality). The vast majority of this derivation is given in Bishop (1998) and again in Hoffman (2013)."
     ]
    },
    {
     "cell_type": "markdown",
     "metadata": {},
     "source": [
      "####The objective function ####\n",
      "\n",
      "In variational inference, we want to approximate that intractable posterior distribution by some known, nice function $Q$. To find the optimal $Q$, we need to define a relationship between the intractable log normalization constant ${\\rm{ln\\ }} P(X)$ and $Q$, and get an objective function based on that relationship.\n",
      "\n",
      "The mean-field assumption leads to a rather nice result, namely that we can use that ELBO $\\mathcal{L} (Q)$ (lower bound on the log probability of the data) in the following way:\n",
      "\n",
      "$${\\rm{ln}}\\ P(X) = {\\rm{\\mathcal{L}}}(Q) + {\\rm{KL}}(Q \\ \\| \\ P)$$\n",
      "\n",
      "where ${\\rm{\\mathcal{L}}}(Q)$ is the ELBO, and ${\\rm{KL}}(Q \\ \\| \\ P)$ is the KL (Kullback-Leibler) divergence between the approximating distribution $Q$ and the true posterior distribution $P(Z \\mid X)$. \n",
      "\n",
      "(Aside: Remember the KL divergence is a measure of the difference between two probability distributions. It's not the same as a distance function, because it isn't symmetric (but you can define it to be - that's done in stochastic variational inference, but not here). It is defined (for continuous distributions) as:\n",
      "\n",
      "$${\\rm{KL}}(Q(Z \\mid X) \\ \\| \\ P(Z\\mid X)) = - \\int_{Z} Q(Z \\mid X) {\\rm\\ ln}\\left[\\frac{P(Z \\mid X)}{Q(Z \\mid X)}\\right] dZ$$\n",
      "\n",
      "Or, in simplified notation:\n",
      "\n",
      "$${\\rm{KL}}(Q \\ \\| \\ P) = - \\int_Z Q {\\rm\\ ln}\\left[\\frac{P}{Q}\\right] dZ$$\n",
      "\n",
      "This relationship can be derived by expanding the KL divergence, and expanding the ELBO, then adding them together, cancelling out some terms and remembering that Q is a probability density function (which means the integral of $Q$ over its domain is equal to 1). I can send you the proof if you like, or you can find most of it in Bishop (2006).)\n",
      "\n"
     ]
    },
    {
     "cell_type": "markdown",
     "metadata": {},
     "source": [
      "So maximizing the ELBO $\\mathcal{L}(Q)$, with respect to $Q$ is the same as minimizing the KL divergence between the variational distribution $Q$ and the true posterior distribution $P(Z \\mid X)$. This is more easily seen through a picture (from Bishop 1998):\n",
      "\n",
      "<img src=\"https://github.com/caugusta/variational-inference/raw/master/KLpicture.png\" alt=\"Illustration of the KL divergence minimization being equivalent to maximization of the lower bound\" style=\"width:250px\">\n",
      "\n",
      "In this diagram, ${\\rm{ln\\ }} P(V \\mid w)$ is the equivalent of our ${\\rm {ln\\ }} P(X)$. Note that we can't compute the KL divergence here, since we can't compute the posterior $P(Z \\mid X)$. Instead, we focus on maximizing the ELBO:\n",
      "\n",
      "$$\\mathcal{L}(Q) = E_Q \\left[{\\rm{ln\\ }} P(X, Z)\\right] - E_Q \\left[{\\rm{ln\\ }} {Q(Z)}\\right]$$\n",
      "\n",
      "#### Choosing Q ####\n",
      "Recall the minimum value of the KL divergence metric is 0. If we could choose any $Q$ we like, we would choose it such that $Q = P(Z \\mid X)$, which would give a KL divergence of 0. That would mean, though, that we knew the form of the posterior distribution, which we don't. So instead, we choose a \"best\" $Q$ out of a particular family of functions. Corresponding to the mean-field assumption, we choose the following factorized form for the variational distribution:\n",
      "\n",
      "$$ Q(Z) = \\prod_{i=1}^n Q_i (Z_{i}) $$\n",
      "\n",
      "So there will be $n$ functions $Q_i$ corresponding to the $n$ different $Z_i$ hidden variables."
     ]
    },
    {
     "cell_type": "markdown",
     "metadata": {},
     "source": [
      "#### Maximizing the ELBO ####\n",
      "\n",
      "Finally, we have our objective function:\n",
      "    \n",
      "$$\\mathcal{L}(Q) = E_Q \\left[{\\rm{ln\\ }} P(X, Z)\\right] - E_Q \\left[{\\rm{ln\\ }} {\\prod_{i=1}^{n} Q_i(Z_i)}\\right]$$"
     ]
    },
    {
     "cell_type": "markdown",
     "metadata": {},
     "source": [
      "We want to maximize $\\mathcal{L}(Q)$ with respect to each function $Q_i(Z_i)$"
     ]
    },
    {
     "cell_type": "markdown",
     "metadata": {},
     "source": [
      "The final result is:\n",
      "    \n",
      "$$Q^{*}_j(Z_j)= \\displaystyle{\\frac{{\\rm{exp}}\\left\\{ E_{Q_{i \\ne j}} \\left[ {\\rm{\\ln\\ }} P(X, Z) \\right]\\right\\}}{\\int_{Z_j} \\rm{exp}\\left\\{ E_{Q_{i \\ne j}} \\left[ {\\rm{\\ln\\ }} P(X, Z) \\right]\\right\\} d{Z_j}}}$$"
     ]
    },
    {
     "cell_type": "markdown",
     "metadata": {},
     "source": [
      "So to arrive at a best distribution for all $Z_j,\\ j = 1, \\ldots n$, we need to initialize all of the factors $Q_i(Z_i), i \\ne j$, then calculate the expectation of $Z_j$ with respect to the other factors. We then update our $Q_j(Z_j)$, and move to another distribution, holding all the others constant. In this way, we will arrive at an optimal distribution for $Q$, since the bound is convex with respect to each of the $Q_i(Z_i)$ distributions (Bishop, 2006).\n",
      "\n",
      "####The complete algorithm is:####\n",
      "\n",
      "1. Initialize the parameters of all of the variational distributions $Q_j(Z_j),\\ j = 1, \\ldots, n$\n",
      "2. For j in 1:n\n",
      "    $$Q^{new}_j(Z_j) = \\displaystyle{\\frac{{\\rm{exp}}\\left\\{ E_{i \\ne j} \\left[ {\\rm{\\ln\\ }} P(X, Z) \\right]\\right\\}}{\\int_{Z_j} \\rm{exp}\\left\\{ E_{i \\ne j} \\left[ {\\rm{\\ln\\ }} P(X, Z) \\right]\\right\\} d{Z_j}}}$$\n",
      "    \n",
      "3. Iterate until convergence.\n",
      "    "
     ]
    },
    {
     "cell_type": "markdown",
     "metadata": {},
     "source": [
      "###3. Mean field variational inference - example: Variational Gaussian Mixture Model###"
     ]
    },
    {
     "cell_type": "markdown",
     "metadata": {},
     "source": [
      "This example is taken directly, verbatim from http://www.bayespy.org/examples/gmm.html. All of the mathematical derivations are available in section 10.2 of Bishop (2006).\n",
      "\n",
      "The Python 3.0 module BayesPy allows variational Bayes procedures to be implemented on linear regression, Gaussian mixture models, Bernoulli mixture models, Hidden Markov models, and more. Unfortunately the authors have not seen fit to provide a Python 2.7 implementation.\n",
      "\n",
      "Remember from the Old Faithful example that we had 2 component distributions in our mixture distribution. Here, we'll instead have 4 component distributions, (called clusters) to make the problem a little more interesting:\n",
      "\n",
      "<!--\n",
      "Recall the parameters of a Normal distribution are $\\mu$ and $\\sigma^2$. Just like the Normal distribution, each variational distribution will have some associated parameters. Arriving at an optimal distribution for each $Q_j(Z_j)$ means finding the best settings of the variational parameters for each distribution. \n",
      "\n",
      "In Bayesian multiple linear regression, we have the following model:\n",
      "\n",
      "$$y_i = \\beta_0 + \\beta_1 x_{i, 1} + \\beta_2x_{i, 2} + \\cdots + \\beta_k x_{i,k} + \\epsilon_i, \\hspace{0.5in} i = \\{1, \\ldots, n\\}$$\n",
      "\n",
      "$$\\epsilon_i \\sim N(0, \\tau),$$ \n",
      "\n",
      "$$\\beta \\sim N(0, \\alpha),$$ \n",
      "\n",
      "$$\\alpha \\sim Gamma(a_0, b_0)$$\n",
      "-->\n",
      "\n",
      "<!--\n",
      "where:\n",
      "\n",
      "the $n$-vector $y$ is the dependent variable (observed variable)\n",
      "\n",
      "the $n x k$ matrix $X$ is the design matrix\n",
      "\n",
      "the $k$-vector $\\beta$ is a vector of regression coefficients (hidden parameter)\n",
      "\n",
      "the $n$ vector $\\epsilon$ is an error (noise) term with distribution $N(0, \\tau)$\n",
      "\n",
      "$\\tau$ is the precision (inverse of the covariance matrix) of the distribution of the error term (hidden parameter)\n",
      "\n",
      "$\\alpha$ is the precision of the distribution on the regression coefficients $\\beta$ (hidden parameter)\n",
      "\n",
      "Remember in a Bayesian treatment, parameters have distributions, and are considered random variables.\n",
      "-->\n",
      "\n",
      "<!--\n",
      "If you have Python 3.0, you can use a very nice new package called BayesPy, which also does Variational inference on a Gaussian mixture model (follow the example [here](http://www.bayespy.org/examples/gmm.html)). Since I have Python 2.7, I'm going to be doing things a little differently.\n",
      "\n",
      "Say we have data from a Gaussian process, and we can plot the data. In this very simple example, we'll assume that the number fo clusters is known a priori, but of course you can always treat the number of clusters as a hidden variable and infer it in a similar way to the ohter hidden variables in the model. In this example, there are 300 observations in each cluster:\n",
      "\n",
      "<img src=\"https://github.com/caugusta/variational-inference/raw/master/MyData.png\" alt=\"\" style=\"width:600px\">\n",
      "\n",
      "and we know the true value of the means is [2,2] and [10,10], and that each cluster has the 2x2 identity covariance matrix. Say we didn't know this, though. All we had were the raw data, and we didn't know the means and covariance matrices. We could use mean field variational inference to infer them, as well as the cluster label for each data point.\n",
      "-->"
     ]
    },
    {
     "cell_type": "code",
     "collapsed": false,
     "input": [
      "#This will work regardless of your Python version\n",
      "import numpy as np\n",
      "import matplotlib.pyplot as plt\n",
      "\n",
      "#Get 50 samples from each of 4 separate 2D Multivariate Normal distributions\n",
      "#x0 = np.random.multivariate_normal([0, 0], [[2, 0], [0, 0.1]], size=50)\n",
      "#x1 = np.random.multivariate_normal([0, 0], [[0.1, 0], [0, 2]], size=50)\n",
      "#x2 = np.random.multivariate_normal([2, 2], [[2, -1.5], [-1.5, 2]], size=50)\n",
      "#x3 = np.random.multivariate_normal([-2, -2], [[0.5, 0], [0, 0.5]], size=50)\n",
      "\n",
      "\n",
      "#concatenate all of the observations together\n",
      "obs = np.vstack([x0, x1, x2, x3]) #this version is used in the online example\n",
      "obsplot = np.r_[x0, x1, x2, x3]  #this version is for my plot. The only difference is formatting.\n",
      "\n",
      "#and plot them\n",
      "plt.plot(obs[:,0][0:49], obs[:,1][0:49], 'ro', obs[:,0][50:99], obs[:,1][50:99], 'bo', obs[:,0][100:149], obs[:,1][100:149], 'go', obs[:,0][150:199], obs[:,1][150:199], 'mo',)\n",
      "plt.xlabel('x')\n",
      "plt.ylabel('y')\n",
      "plt.axis([-3, 6, -3, 5])\n",
      "plt.title('Example data from four MVN distributions')\n",
      "plt.show()\n"
     ],
     "language": "python",
     "metadata": {},
     "outputs": [
      {
       "metadata": {},
       "output_type": "display_data",
       "png": "[encoded data removed]",
       "text": [
        "<matplotlib.figure.Figure at 0x105b68950>"
       ]
      }
     ],
     "prompt_number": 22
    },
    {
     "cell_type": "markdown",
     "metadata": {},
     "source": [
      "Now suppose we didn't know the cluster labels. That is, we don't know which of our 4 MVN distributions an observation comes from. We can visualize this with a plot without the colours - just the raw data:"
     ]
    },
    {
     "cell_type": "markdown",
     "metadata": {},
     "source": [
      "<img src=\"https://github.com/caugusta/variational-inference/raw/master/FromOnline1.png\" alt=\"\" style=\"width:500px\">"
     ]
    },
    {
     "cell_type": "markdown",
     "metadata": {},
     "source": [
      "####Model####\n",
      "\n",
      "For clarity, let us denote the number of the data vectors with N"
     ]
    },
    {
     "cell_type": "code",
     "collapsed": false,
     "input": [
      "N = 200"
     ],
     "language": "python",
     "metadata": {},
     "outputs": [],
     "prompt_number": 24
    },
    {
     "cell_type": "markdown",
     "metadata": {},
     "source": [
      "and the dimensionality of the data vectors with D:"
     ]
    },
    {
     "cell_type": "code",
     "collapsed": false,
     "input": [
      "D = 2"
     ],
     "language": "python",
     "metadata": {},
     "outputs": [],
     "prompt_number": 25
    },
    {
     "cell_type": "markdown",
     "metadata": {},
     "source": [
      "Since we don't know how many clusters our dataset has, we'll start with some large number of clusters, and the algorithm will pare this number down to a 'best guess' as to the true number of clusters. "
     ]
    },
    {
     "cell_type": "code",
     "collapsed": false,
     "input": [
      "K = 10"
     ],
     "language": "python",
     "metadata": {},
     "outputs": [],
     "prompt_number": 26
    },
    {
     "cell_type": "markdown",
     "metadata": {},
     "source": [
      "Remember when we have more than 2 possible clusters (we're assuming 10 here to be safe), we use a Categorical distribution. So the cluster assignments Z will have a Categorical distribution, and the prior for the cluster assignment probabilities $P(\\pi)$ will have a Dirichlet distribution:\n",
      "\n",
      "$$P(\\pi) = Dir(\\pi \\mid \\alpha)$$\n",
      "\n",
      "(More about Dirichlet distributions [here](http://en.wikipedia.org/wiki/Dirichlet_distribution), but for this example you only need to know that it's the conjugate prior of the Categorical distribution)\n"
     ]
    },
    {
     "cell_type": "code",
     "collapsed": false,
     "input": [
      "#This part will only work with Python 3.0\n",
      "\n",
      "from bayespy.nodes import Dirichlet, Categorical\n",
      "\n",
      "#Create a Dirichlet process prior for the cluster assignments our P(\\pi) \n",
      "alpha = Dirichlet(1e-5*npones(K), name = 'alpha') \n",
      "\n",
      "#The cluster assignments themselves follow a Categorical distribution\n",
      "#Since there are N observations, there will be N cluster assignments\n",
      "Z = Categorical(alpha, plates=(N,), name='z')\n"
     ],
     "language": "python",
     "metadata": {},
     "outputs": []
    },
    {
     "cell_type": "markdown",
     "metadata": {},
     "source": [
      "We also want to find the mean vectors and precision matrices of the clusters themselves (the precision matrix is the inverse of the covariance matrix, and is arguably nicer to work with when deriving the math behind this process). The conjugate prior of the mean of a Gaussian distribution is another Gaussian, and we will have exactly K elements in our mean vector, $\\mu$ (each cluster will have its own mean). \n",
      "\n",
      "The conjugate prior of the precision matrix $\\Lambda$ (inverse of the covariance matrix) is a Wishart distribution. (More about [Wishart distributions](http://en.wikipedia.org/wiki/Wishart_distribution)).\n",
      "\n",
      "(Side note: Some people like to put all of this together and talk about a Normal-inverse-Wishart distribution as a conjugate prior for a multivariate Normal distribution with unknown mean and covariance matrix. If you're interested, here's the [Wikipedia article](http://en.wikipedia.org/wiki/Normal-inverse-Wishart_distribution).)\n",
      "\n",
      "So we have:\n",
      "\n",
      "$$P(\\Lambda) = \\prod_{k = 1}^{K} \\mathcal{W}(\\lambda_k \\mid W_0, \\eta_0)$$\n",
      "\n",
      "$$P(\\mu \\mid \\Lambda) = \\prod_{k = 1}^{K} \\mathcal{N}(\\mu_k \\mid m_0, (\\beta_0 \\lambda_k)^{-1})$$"
     ]
    },
    {
     "cell_type": "code",
     "collapsed": false,
     "input": [
      "#This part will only work with Python 3.0\n",
      "\n",
      "from bayespy.nodes import Gaussian, Wishart\n",
      "\n",
      "mu = Gaussian(np.zeros(D), 1e-5*np.identity(D), plates=(K,), name='mu')\n",
      "\n",
      "Lambda = Wishart(D, 1e-5*np.identity(D), plates=(K,), name='Lambda')\n",
      "\n"
     ],
     "language": "python",
     "metadata": {},
     "outputs": []
    },
    {
     "cell_type": "markdown",
     "metadata": {},
     "source": [
      "We know that our data come from a Gaussian mixture distribution, but we don't know anything else. We create a Gaussian mixture distribution object:"
     ]
    },
    {
     "cell_type": "code",
     "collapsed": false,
     "input": [
      "#This part will only work with Python 3.0\n",
      "from bayespy.nodes import Mixture\n",
      "\n",
      " Y = Mixture(Z, Gaussian, mu, Lambda, name='Y') #This is the object\n",
      " Y.observe(obs) #and these are the model observations - the data."
     ],
     "language": "python",
     "metadata": {},
     "outputs": []
    },
    {
     "cell_type": "markdown",
     "metadata": {},
     "source": [
      "Now we randomly initialize our cluster assignments $Z$ to start everything off:"
     ]
    },
    {
     "cell_type": "code",
     "collapsed": false,
     "input": [
      "#This part will only work with Python 3.0\n",
      "Z.initialize_from_random()"
     ],
     "language": "python",
     "metadata": {},
     "outputs": []
    },
    {
     "cell_type": "markdown",
     "metadata": {},
     "source": [
      "Now we're ready to perform inference (get distributional estimates) on the hidden values, given the data:\n",
      "\n",
      "Z (cluster assignments), \n",
      "\n",
      "$\\Lambda$ (the precision matrix), \n",
      "\n",
      "$\\mu$ (the vector of means),\n",
      "\n",
      "$K$ (the number of clusters), and\n",
      "\n",
      "$\\pi$ (the probability of being in a cluster)"
     ]
    },
    {
     "cell_type": "markdown",
     "metadata": {},
     "source": [
      "####Inference####"
     ]
    },
    {
     "cell_type": "markdown",
     "metadata": {},
     "source": [
      "We create a Variational Bayes object (same as variational inference in this case). "
     ]
    },
    {
     "cell_type": "code",
     "collapsed": false,
     "input": [
      "\n",
      "#This part will only work with Python 3.0\n",
      "from bayespy.inference import VB\n",
      "\n",
      "Q = VB(Y, mu, Lambda, Z, alpha)\n",
      "\n",
      "Q.update(repeat=1000)\n",
      "\n",
      "#This is the output:\n",
      "#Iteration 1: loglike=-1.402345e+03 (... seconds)\n",
      "#...\n",
      "#Iteration 61: loglike=-8.888464e+02 (... seconds)\n",
      "#Converged at iteration 61.\n"
     ],
     "language": "python",
     "metadata": {},
     "outputs": []
    },
    {
     "cell_type": "markdown",
     "metadata": {},
     "source": [
      "All of the results can be visualized in the following plot:\n",
      "    \n",
      "<img src=\"https://github.com/caugusta/variational-inference/raw/master/FromOnline2.png\" alt=\"\" style=\"width:500px\">"
     ]
    },
    {
     "cell_type": "markdown",
     "metadata": {},
     "source": [
      "So the algorithm has found all four clusters, and has figured out the cluster means and covariances, visualized by the ellipsoids. It has also figured out which observations belong to each cluster, with a few expections. It's clear that it would be hard to figure out the cluster assignment for the data point on the far right, for example."
     ]
    },
    {
     "cell_type": "markdown",
     "metadata": {},
     "source": [
      "###4. The EM Algorithm and how it relates to variational inference###\n",
      "\n",
      "EM arises as a limiting case of VB. In particular, EM and VB are equivalent when the approximate posterior distribution is constrained to be a point mass (Bayesian Data Analysis, 3rd Edition, Gelman et al).\n",
      "\n",
      "In the EM algorithm, the number of clusters must be specified a priori, unless of course we want to use a separate algorithm to decide the number of clusters based on the data before running EM.\n",
      "\n",
      "Keeping the example of four bivariate Gaussian clusters, the algorithm for EM in the case of a (Bayesian) Gaussian mixture model can be paraphrased from Bishop (2006):\n",
      "\n",
      "Until convergence:\n",
      "\n",
      "1. Draw from the conjugate priors for the mean $\\mu$, and precision $\\Lambda$ of each component, and for the mixture probabilities $\\pi$. Evaluate the log likelihood $\\ell$.\n",
      "\n",
      "2. Using these simulated values, calculate the responsibilities $\\gamma_k$ for each component k. This is the E-step, as it involves an expectation:\n",
      "\n",
      "3. Using the responsibilities, estimate $\\mu$, $\\Lambda$, and $\\pi$ using the maximum likelihood estimates:\n",
      "\n",
      "4. Evaluate the log likelihood and check for convergence. That is, if $\\ell_t - \\ell_{t-1} \\lt \\epsilon$, stop iterating.\n",
      "\n",
      "\n",
      "\n"
     ]
    },
    {
     "cell_type": "markdown",
     "metadata": {},
     "source": [
      "In Python:"
     ]
    },
    {
     "cell_type": "code",
     "collapsed": false,
     "input": [
      "#http://scikit-learn.org/stable/auto_examples/mixture/plot_gmm.html\n",
      "\n",
      "import itertools\n",
      "\n",
      "import numpy as np\n",
      "from scipy import linalg\n",
      "import matplotlib.pyplot as plt\n",
      "import matplotlib as mpl\n",
      "%matplotlib inline  \n",
      "from sklearn import mixture\n",
      "\n",
      "# Number of samples per component\n",
      "n_samples = 400\n",
      "\n",
      "# Generate random sample, two components\n",
      "np.random.seed(0)\n",
      "C = np.array([[0., -0.1], [1.7, .4]])\n",
      "#X = np.r_[np.dot(np.random.randn(n_samples, 2), C),\n",
      "#          .7 * np.random.randn(n_samples, 2) + np.array([-6, 3])]\n",
      "#\n",
      "#print X\n",
      "\n",
      "y0 = np.random.multivariate_normal([0, 0], [[1, 0], [0, 1]], size=100)\n",
      "y1 = np.random.multivariate_normal([10, 10], [[1, 0], [0, 1]], size=100)\n",
      "y2 = np.random.multivariate_normal([5, 5], [[1, 0], [0, 1]], size=100)\n",
      "y3 = np.random.multivariate_normal([-2, 8], [[1, 0], [0, 1]], size=100)\n",
      "y = np.vstack([y0, y1, y2, y3])\n",
      "\n",
      "## Fit a mixture of Gaussians with EM using four components\n",
      "gmm = mixture.GMM(n_components=4, covariance_type='full')\n",
      "gmm.fit(y)\n",
      "#\n",
      "## Fit a Dirichlet process mixture of Gaussians using four components\n",
      "dpgmm = mixture.DPGMM(n_components=5, covariance_type='full')\n",
      "dpgmm.fit(y)\n",
      "#\n",
      "color_iter = itertools.cycle(['r', 'g', 'b', 'c'])\n",
      "#\n",
      "for i, (clf, title) in enumerate([(gmm, 'GMM'),\n",
      "                                  (dpgmm, 'Dirichlet Process GMM')]):\n",
      "    splot = plt.subplot(2, 1, 1 + i)\n",
      "    Y_ = clf.predict(y) #predicts cluster label\n",
      "\n",
      "    for i, (mean, covar, color) in enumerate(zip(\n",
      "            clf.means_, clf._get_covars(), color_iter)):\n",
      "        v, w = linalg.eigh(covar)\n",
      "        u = w[0] / linalg.norm(w[0])\n",
      "    # as the DP will not use every component it has access to\n",
      "        # unless it needs it, we shouldn't plot the redundant\n",
      "        # components.\n",
      "        if not np.any(Y_ == i):\n",
      "            continue\n",
      "        plt.scatter(y[Y_ == i, 0], y[Y_ == i, 1], .8, color=color)\n",
      "\n",
      "        # Plot an ellipse to show the Gaussian component\n",
      "        angle = np.arctan(u[1] / u[0])\n",
      "        angle = 180 * angle / np.pi  # convert to degrees\n",
      "        ell = mpl.patches.Ellipse(mean, v[0], v[1], 180 + angle, color=color)\n",
      "        ell.set_clip_box(splot.bbox)\n",
      "        ell.set_alpha(0.5)\n",
      "        splot.add_artist(ell)\n",
      "\n",
      "    plt.xlim(min(y[:,0]), max(y[:,0]))\n",
      "    plt.ylim(min(y[:,1]), max(y[:,1]))\n",
      "    plt.xticks(())\n",
      "    plt.yticks(())\n",
      "    plt.title(title)\n",
      "#\n",
      "plt.show()"
     ],
     "language": "python",
     "metadata": {},
     "outputs": [
      {
       "metadata": {},
       "output_type": "display_data",
       "png": "[encoded data removed]",
       "text": [
        "<matplotlib.figure.Figure at 0x108174610>"
       ]
      }
     ],
     "prompt_number": 4
    },
    {
     "cell_type": "markdown",
     "metadata": {},
     "source": [
      "### Expectation Maximization as a limiting case of Variational inference ###\n",
      "\n",
      "The EM algorithm is usually used to find maximum likelihood estimates of the model parameters. In a Bayesian setting, however, the EM algorithm can be used for maximum a posteriori (MAP) estimation. One advantage of Bayesian EM is that the singularities that arise in GMM estimation disappear due to the influence of the prior distribution (Bishop 2006). As the number of samples approaches infinity, by the Central Limit Theorem the posterior of each model parameter becomes strongly peaked about its mean (this makes sense - the variance decreases as the sample size increases) (Attias, 1999). The algortihm for MAP estimation is slightly different than that for maximum likelihood, purely because of the prior distribution. "
     ]
    },
    {
     "cell_type": "markdown",
     "metadata": {},
     "source": [
      "Using notation from Bishop (2006), say we have a joint distribution over the hidden (Z) and visible (X) variables, and model parameters $\\theta$. If we wanted to do maximum likelihood estimation analytically, we would define the log likelihood function for the observed data given the model parameters and take derivatives and solve in the usual way. That log likelihood would have this form:\n",
      "\n",
      "$${\\rm{ln\\ }} P(X \\mid \\theta) = {\\rm{ln}}\\left\\{ \\sum_Z p(X, Z \\mid \\theta) \\right\\}$$\n",
      "\n",
      "We can't evaluate this likelihood analytically because of that annoying sum over the hidden states that appears inside the logarithm. As stated in Bishop (2006), if the model distribution is part of the exponential family (which would be nice), this log of a sum operation means that the posterior distribution ${\\rm{ln\\ }} P(X \\mid \\theta)$ doesn't necessarily belong to the exponential family. The maximum likelihood solutions will not have very nice forms.\n",
      "\n",
      "Suppose instead that we're told the latent state Z that corresponds to each value X. Then we have an expression for the complete data log likelihood (over the visible and hidden states): ${\\rm{ln\\ }} p(X, Z \\mid \\theta)$. The problem is that in practice, we don't know the values of Z. We can, however, quantify our knowledge of Z via the posterior distribution $p(Z \\mid X, \\theta)$. Instead of using the complete data log likelihood, which we don't know, we approximate it using the posterior for Z. \n",
      "\n",
      "We initialize the parameters $\\theta$ - call this $\\theta_c$. Then in the E-step, we take the expectation of the complete data log likelihood under the posterior distribution of Z, using the current setting of the model parameters:\n",
      "\n",
      "$Q(\\theta, \\theta_c) = \\sum\\limits_Z p(Z \\mid X, \\theta_c) {\\rm{ln\\ }}p(X, Z \\mid \\theta)$\n",
      "\n",
      "Then in the M-step, we maximize this function $Q$ with respect to $\\theta$."
     ]
    },
    {
     "cell_type": "markdown",
     "metadata": {},
     "source": [
      "#### Algorithm for General EM ####\n",
      "\n",
      "\n",
      "1. Initialize model parameters $\\theta_c$\n",
      "2. E-step: evaluate $p(Z \\mid X, \\theta_c)$\n",
      "3. M-step: evaluate $\\theta_{new}$:\n",
      "\n",
      "    $$\\theta_{new} = {\\rm{argmax}}_{\\theta} Q(\\theta, \\theta_c)$$\n",
      "\n",
      "    where\n",
      "\n",
      "    $$Q(\\theta, \\theta_c) = \\sum\\limits_Z p(Z \\mid X, \\theta_c) {\\rm{\\ ln\\ }} p(X, Z \\mid \\theta)$$\n",
      "4. Check for convergence: \n",
      "\n",
      "    If ${\\rm{ln\\ }}p(X \\mid \\theta_{new}) -  {\\rm{ln\\ }}p(X \\mid \\theta_{c}) < \\epsilon_1$ \n",
      "\n",
      "    or $\\theta_{new} - \\theta_{c} < \\epsilon_2$\n",
      "\n",
      "    then stop. \n",
      "    \n",
      "    Else let $\\theta_c = \\theta_{new}$ and go back to step 2.\n",
      "    "
     ]
    },
    {
     "cell_type": "markdown",
     "metadata": {},
     "source": [
      "In MAP estimation, we define a prior distribution over the model parameters $\\theta$. So the function that we need to maximize in the M-step becomes:\n",
      "    \n",
      "\n",
      "$$Q(\\theta, \\theta_c) = \\sum\\limits_Z p(Z \\mid X, \\theta_c) {\\rm{\\ ln\\ }} p(X, Z \\mid \\theta) + {\\rm{ln\\ }}p(\\theta)$$\n",
      "\n",
      "\n"
     ]
    },
    {
     "cell_type": "markdown",
     "metadata": {},
     "source": [
      "### Moving from EM to VB ###\n",
      "\n",
      "Recall the (usual) goal of EM is to maximize the log likelihood of the data given the model parameters. The log likelihood ${\\rm{ln\\ }} p(x \\mid \\theta)$ can be decomposed in the following way:\n",
      "\n",
      "\n",
      "\\begin{align}\n",
      "{\\rm{ln}}\\ P(X \\mid \\theta) &= {\\rm{ln}} \\sum_Z P(X, Z \\mid \\theta)  {\\hspace{0.5in} \\rm {\\ by\\ conditional\\ probability}} \\\\[0.5em]\n",
      "&= {\\rm{ln}} \\sum_Z \\frac{P(X, Z \\mid \\theta)}{Q(Z)}Q(Z) \\\\[0.5em]\n",
      "&= {\\rm{ln\\ }} E_Q \\left[\\frac{P(X, Z \\mid \\theta)}{Q(Z)} \\right] {\\hspace{0.5in} \\rm{\\, since\\ E_X(g(X)) = \\sum_x g(x)f(x) dx,\\ by\\ definition,\\ taking\\ the\\ expectation\\ with\\ respect\\ to\\ Q(Z)}}\\\\[0.5em]\n",
      "&\\ge E_Q\\ {\\rm{ln}} \\left[\\frac{P(X, Z \\mid \\theta)}{Q(Z)} \\right] {\\hspace{0.5in} \\rm{\\, by\\ Jensen's\\ Inequality}} \\\\[0.5em]\n",
      "&= E_Q \\left[{\\rm{ln\\ }} P(X, Z \\mid \\theta)\\right] - E_Q \\left[{\\rm{ln\\ }} {Q(Z)}\\right] \\\\[0.5em]\n",
      "&= {\\mathcal{L}}(Q , \\theta) \\\\\n",
      "\\end{align}\n"
     ]
    },
    {
     "cell_type": "markdown",
     "metadata": {},
     "source": [
      "We can also notice the difference between the log likelihood and the lower bound is the KL divergence between the approximating (variational) distribution $Q$ and the true posterior distribution $p(Z\\mid X)$"
     ]
    },
    {
     "cell_type": "markdown",
     "metadata": {},
     "source": [
      "Proof:\n",
      "\n",
      "Rewrite $\\mathcal{L}(Q , \\theta)$ as \n",
      "\n",
      "\\begin{align}\n",
      "\\mathcal{L}(Q , \\theta) &= E_Q \\left[{\\rm{ln\\ }} P(X, Z \\mid \\theta)\\right] - E_Q \\left[{\\rm{ln\\ }} {Q(Z)}\\right] \\\\[0.5em]\n",
      "&= \\sum\\limits_Z Q(Z) {\\rm{\\ ln\\ }} P(X, Z \\mid \\theta) - \\sum\\limits_Z Q(Z) {\\rm{\\ ln\\ }} Q(Z) \\\\[0.5em]\n",
      "&= \\sum\\limits_Z Q(Z) {\\rm{\\ ln\\ }} \\frac{P(X, Z \\mid \\theta)}{Q(Z)} \\\\[0.5em]\n",
      "&= \\sum\\limits_Z Q(Z) {\\rm{\\ ln\\ }} \\frac{P(Z \\mid X, \\theta)P(X \\mid \\theta)}{Q(Z)} \\\\[0.5em]\n",
      "& = \\sum\\limits_Z Q(Z) \\left\\{{\\rm{\\ ln\\ }} P(Z \\mid X, \\theta) + {\\rm{\\ ln\\ }} P(X \\mid \\theta) - {\\rm{\\ ln\\ }}{Q(Z)}\\right\\} \\\\[0.5em]\n",
      "\\end{align}\n",
      "    "
     ]
    },
    {
     "cell_type": "markdown",
     "metadata": {},
     "source": [
      "and notice that the KL divergence is defined as:\n",
      "    \n",
      "$${\\rm{KL}}(Q || P) = -\\sum\\limits_Z Q(Z) {\\rm{\\ ln\\ }}\\frac{P(Z \\mid X, \\theta)}{Q(Z)}$$"
     ]
    },
    {
     "cell_type": "markdown",
     "metadata": {},
     "source": [
      "So:\n",
      "\\begin{align}    \n",
      "\\mathcal{L}(Q , \\theta) + {\\rm{KL}}(Q || P) &= \\sum\\limits_Z Q(Z) \\left\\{{\\rm{\\ ln\\ }} P(Z \\mid X, \\theta) + {\\rm{\\ ln\\ }} P(X \\mid \\theta) - {\\rm{\\ ln\\ }}{Q(Z)}\\right\\} -\\sum\\limits_Z Q(Z) {\\rm{\\ ln\\ }}\\frac{P(Z \\mid X, \\theta)}{Q(Z)} \\\\[0.5em]\n",
      "& = \\sum\\limits_Z Q(Z) \\left\\{{\\rm{\\ ln\\ }} P(Z \\mid X, \\theta) + {\\rm{\\ ln\\ }} P(X \\mid \\theta) - {\\rm{\\ ln\\ }}{Q(Z)}\\right\\} -\\sum\\limits_Z Q(Z) {\\rm{\\ ln\\ }}P(Z \\mid X, \\theta) + \\sum\\limits_ZQ(Z) {\\rm{\\ ln\\ }}{Q(Z)} \\\\[0.5em]\n",
      "&= \\sum\\limits_Z Q(Z){\\rm{\\ ln\\ }} P(X \\mid \\theta) \\\\[0.5em]\n",
      "& = {\\rm{\\ ln\\ }} P(X \\mid \\theta)\n",
      "\\end{align}"
     ]
    },
    {
     "cell_type": "markdown",
     "metadata": {},
     "source": [
      "since ${\\rm{\\ ln\\ }} P(X \\mid \\theta)$ is independent of Z, and since $\\sum\\limits_Z Q(Z) = 1$, since $Q(Z)$ is a probability mass function. QED"
     ]
    },
    {
     "cell_type": "markdown",
     "metadata": {},
     "source": [
      "So we have $${\\rm{\\ ln\\ }} P(X \\mid \\theta) = \\mathcal{L}(Q , \\theta) + {\\rm{KL}}(Q || P)$$\n",
      "\n",
      "To maximize the log likelihood, ${\\rm{\\ ln\\ }} P(X \\mid \\theta)$, we need to maximize the lower bound or minimize the KL divergence between the distribution $Q(Z)$ and $P(Z| X, \\theta)$. Remember the KL divergence is never less than 0, so the log likelihood will always be at least $\\mathcal{L}(Q , \\theta)$ (so $\\mathcal{L}(Q , \\theta)$ is a lower bound on the log likelihood). For later, note:\n",
      "\n",
      "$$\\mathcal{L}(Q , \\theta) =  {\\rm{\\ ln\\ }} P(X \\mid \\theta) - {\\rm{KL}}(Q || P)$$\n",
      "\n",
      "so $\\mathcal{L}(Q , \\theta)$ is maximized when ${\\rm{KL}}(Q || P)$ is 0."
     ]
    },
    {
     "cell_type": "markdown",
     "metadata": {},
     "source": [
      "Now we can use this decomposition to define the EM algorithm:\n",
      "\n",
      "#### Algorithm for General EM using the log likelihood decomposition####\n",
      "\n",
      "\n",
      "1. Initialize model parameters $\\theta_c$\n",
      "2. E-step: holding $\\theta_c$ constant, maximize $\\mathcal{L}(Q, \\theta_c)$ with respect to $Q(Z)$. \n",
      "\n",
      "Note this is the same as the old E-step of evaluating $p(Z \\mid X, \\theta_c)$, since $\\mathcal{L}(Q, \\theta_c)$ is maximized when $Q(Z)$ is equal to $p(Z \\mid X, \\theta_c)$ (since this makes ${\\rm{KL}}(Q || P)$ = 0). The lower bound is then equal to the log likelihood.\n",
      "\n",
      "\n",
      "3. M-step: hold Q(Z) fixed and maximize $\\mathcal{L}(Q, \\theta)$ with respect to $\\theta$. \n",
      "\n",
      "Note this is the same as the old M-step of maximizing the expected complete data log likelihood, since (starting from the definition of the lower bound):\n",
      "\n",
      "\\begin{align}\n",
      "\\mathcal{L}(Q, \\theta) &= \\sum\\limits_Z Q(Z) {\\rm{\\ ln\\ }} P(X, Z \\mid \\theta) - \\sum\\limits_Z Q(Z) {\\rm{\\ ln\\ }} Q(Z) \\\\[0.5em]\n",
      "&= \\sum\\limits_Z P(Z \\mid X, \\theta_c) {\\rm{\\ ln\\ }} P(X, Z \\mid \\theta) - \\sum\\limits_Z P(Z \\mid X, \\theta_c) {\\rm{\\ ln\\ }} P(Z \\mid X, \\theta_c){\\rm{\\ substituting\\ after\\ the\\ E-step}} \\\\[0.5em]\n",
      "&= Q(\\theta, \\theta_c) + {\\rm{constant}}\n",
      "\\end{align}\n",
      "\n",
      "where the constant is the entropy of the Q(Z) distribution, which is independent of $\\theta$.\n",
      "\n",
      "<!--\n",
      "We get a value $\\theta_{new}$, which means $KL(Q || P)$ is now nonzero because Q is being held fixed under $\\theta_c$, and the new posterior distribution will be $P(Z \\mid X, \\theta_{new})$. So the log likelihood ${\\rm{\\ ln\\ }} P(X \\mid \\theta)$ will increase\n",
      "-->\n",
      "\n",
      "evaluate $\\theta_{new}$:\n",
      "\n",
      "   $$\\theta_{new} = {\\rm{argmax}}_{\\theta} Q(\\theta, \\theta_c)$$\n",
      "\n",
      "   where\n",
      "\n",
      "   $$Q(\\theta, \\theta_c) = \\sum\\limits_Z p(Z \\mid X, \\theta_c) {\\rm{\\ ln\\ }} p(X, Z \\mid \\theta)$$\n",
      "4. Check for convergence: \n",
      "\n",
      "    If ${\\rm{ln\\ }}p(X \\mid \\theta_{new}) -  {\\rm{ln\\ }}p(X \\mid \\theta_{c}) < \\epsilon_1$ \n",
      "\n",
      "    or $\\theta_{new} - \\theta_{c} < \\epsilon_2$\n",
      "\n",
      "    then stop. \n",
      "    \n",
      "    Else let $\\theta_c = \\theta_{new}$ and go back to step 2.\n",
      "\\end{enumerate} "
     ]
    },
    {
     "cell_type": "markdown",
     "metadata": {},
     "source": [
      "#### But what happens if the posterior distribution is intractable? ####\n",
      "\n",
      "We relied on letting $Q(Z) = P(Z \\mid X, \\theta_c)$ in the E-step. If $P(Z \\mid X, \\theta_c)$ is intractable, then this step breaks down.\n",
      "\n",
      "So instead of trying to work with the intractable posterior, we use a tractable \"variational posterior\" $Q(Z)$ that is close (in terms of KL divergence) to the true posterior. "
     ]
    },
    {
     "cell_type": "markdown",
     "metadata": {},
     "source": [
      "The variational posterior is chosen such that maximization becomes easy. Using the  mean field assumption, we say that all of the hidden variables are independent of one another and construct:\n",
      "\n",
      "$$Q(Z) = \\prod_j Q(Z_j)$$\n",
      "\n",
      "We can extend this one step further and allow each variational posterior to have its own (variational) parameters. \n",
      "\n",
      "$$Q(Z \\mid \\lambda) = \\prod_j Q(Z_j \\mid \\lambda_j)$$\n",
      "\n",
      "We then optimize the variational parameters to enforce closeness between the variational posterior and the true posterior. The steps remain similar. In fact, only the M step is changed:\n",
      "\n",
      "\n",
      "\n",
      "\n",
      "\n"
     ]
    },
    {
     "cell_type": "code",
     "collapsed": false,
     "input": [],
     "language": "python",
     "metadata": {},
     "outputs": []
    },
    {
     "cell_type": "markdown",
     "metadata": {},
     "source": [
      "### Exponential family models ###\n",
      "\n",
      "Stochastic variational inference is currently done using exponential family distributions. These distributions are useful for a number of reasons, not least of which is the property of conjugacy. Recall from Bayes Theorem:\n",
      "\n",
      "$$P(A \\mid B) = \\frac{P(A, B)}{P(B)} = \\frac{P(B \\mid A) P(A)}{P(B)}$$\n",
      "\n",
      "If the prior, $P(A)$ is of the same family as the posterior, $P(A \\mid B)$, then the prior and the posterior are conjugate distributions. Exponential family distributions will always have a conjugate distribution. This is not true for all non-exponential family models.\n",
      "\n",
      "There are several general forms of exponential family models. Following the notation in Hoffman et al (2013), we'll use the following exponential family form:\n",
      "\n",
      "$$f_x (x \\mid \\theta) = h(x) {\\rm {exp}}\\left[ \\eta(\\theta) T(x) - a(\\eta)\\right]$$\n",
      "\n",
      "where \n",
      "\n",
      "$h(x)$ is the \"base measure\" - a function of the data alone, completely independent of the hidden variables.\n",
      "\n",
      "$\\eta$ is the \"natural parameter\" (aka the \"canonical parameter\") of the distribution\n",
      "\n",
      "$T(x)$ is a vector of sufficient statistics\n",
      "\n",
      "$a$ is the \"log normalizer\", which assumes a form that forces the distribution to be normalized.\n",
      "\n",
      "All exponential family models (for example, the Gaussian distribution, the Binomial distribution, the exponential distribution, etc) can be written in this form. \n",
      "\n",
      "Anyone who would like to look more into this might want to consult [this lecture](http://www.genome.duke.edu/labs/engelhardt/courses/scribe/lec_09_02_2013.pdf). \n",
      "\n",
      "In the mean-field framework, we've introduced the assumption that all hidden variables are independent. We can also introduce another assumption, namely that the complete conditional distributions come from the exponential family.\n",
      "\n",
      "A complete conditional distribution is the conditional distribution of a particular hidden variable given all other hidden variables and all observed variables. So we will have two complete conditional distribution forms: one for the global hidden variable $\\beta$ and one for the local hidden variable $z_{i}$:\n",
      "\n",
      "$$P(\\beta \\mid x, z) = h(\\beta) {\\rm{\\ exp}} \\left[\\eta_g (x, z)^T\\ \\beta - a(\\eta_g(x, z))\\right]$$\n",
      "\n",
      "$$P(z_{i} \\mid x_i, \\beta) = h(z_{i}) {\\rm{\\ exp}} \\left[\\eta_\\ell (x_i, \\beta)^T\\ z_{i} - a(\\eta_\\ell(x_i, \\beta))\\right]$$\n",
      "\n",
      "Since both $P(\\beta \\mid x, z)$ and $P(z_{i} \\mid x_i, \\beta)$ are assumed to come from exponential family distributions, there is a conjugacy relationship between the global hidden variables $\\beta$ and the local variables $x_i$ and $z_i$:\n",
      "\n",
      "$$P(x_i, z_i \\mid \\beta) = h(x_i, z_i) exp \\left[ \\beta^T T(x_i, z_i) - a_{\\ell} (\\beta)\\right]$$\n",
      "\n",
      "We need these distributions so we can take the required gradients later on. Now that we have the complete conditional of $\\beta$, we can define a distribution over its variational family, knowing that it will also have an exponential family distribution (since there's one variational parameter for each hidden variable):\n",
      "\n",
      "$$Q(\\beta \\mid \\lambda) = h(\\beta) {\\rm {exp}} \\left[ \\lambda^T \\beta - a(\\lambda) \\right]$$\n",
      "\n",
      "Similarly, we can also define a distribution over the variational family of $z_i$ $\\phi$:\n",
      "    \n",
      "$$Q(z_i \\mid \\phi_i) = h(z_i) {\\rm {exp}} \\left[ \\phi_i^T z_i - a(\\phi_i) \\right]$$\n",
      "\n",
      "Again, we need these distributions so we can construct $ Q(\\beta, z)$ and take the gradient later on.\n",
      "\n"
     ]
    },
    {
     "cell_type": "markdown",
     "metadata": {},
     "source": [
      "####Maximizing the ELBO with respect to the variational parameters ####\n",
      "\n",
      "Here is our objective function, now that everything has (finally!) been defined:\n",
      "\n",
      "$$\\mathcal{L}(\\lambda, \\phi_{1:n}) =  E_Q \\left[{\\rm{ln\\ }} P(\\beta, z, x)\\right] - E_Q \\left[{\\rm{ln\\ }} {Q(\\beta, z)}\\right]$$\n",
      "\n",
      "remember that maximizing this lower bound is the same as finding the distribution $Q(\\beta, z)$ that is closest in KL divergence to the true posterior distribution.\n",
      "\n",
      "To maximize this function we need to resort to numerical methods (big surprise), and use coordinate ascent. To do this, we hold all parameters fixed but one, then perform coordinate ascent on that parameter, and move on to the next parameter and so on. Note this could all be parallelized, because all of the hidden variables were assumed indepedent.\n",
      "\n",
      "This means we have to take the gradient of $\\mathcal{L}(\\lambda, \\phi_{1:n})$ with respect to each variational parameter. Without going into derivations, here are the gradients we need:\n",
      "\n",
      "$$\\nabla_\\lambda \\mathcal{L} = a''(\\lambda) \\left\\{E_\\phi \\left[\\eta_g (x, z) \\right] - \\lambda \\right\\}$$\n",
      "\n",
      "which leads to this update:\n",
      "\n",
      "$$\\lambda^{*} = E_\\phi \\left[\\eta_g (x, z) \\right]$$\n",
      "\n",
      "Again, we're taking the expectation with respect to all of the other variational parameters, $\\phi$ (we're holding them constant, but they still have a distribution, so we can still take this expectation). The local variational parameters are similar, and the update is shown in the algorithm below.\n",
      "\n"
     ]
    },
    {
     "cell_type": "markdown",
     "metadata": {},
     "source": [
      "#### Algorithm for mean-field variational inference ####\n",
      "\n",
      "Randomly initialize $\\lambda$\n",
      "\n",
      "Until ELBO convergence:\n",
      "\n",
      "1) For each observation, update the local variational parameters according to $\\phi_i^{(t)} = E_{\\lambda^{(t-1)}}\\left[\\eta_\\ell (x_i, \\beta) \\right]$ for $i \\in 1, \\ldots, n$\n",
      "\n",
      "2) Update the global variational parameters according to $\\lambda^{(t)} = E_\\phi^{(t)} \\left[\\eta_g (x_{1:n}, z_{1:n}) \\right]$"
     ]
    },
    {
     "cell_type": "markdown",
     "metadata": {},
     "source": [
      "Note: you need to analyze the entire dataset before completing one iteration of this algorithm. That makes it very inefficient."
     ]
    },
    {
     "cell_type": "markdown",
     "metadata": {},
     "source": [
      "-----------------------------\n",
      "### The Natural Gradient ###\n",
      "\n",
      "To go from vanilla variational inference to stochastic variational inference, we need to jump through some hoops. One of those hoops is the natural gradient. I'll only go over some intuition, but anyone who's interested in details can have a look at Amari (1998). The takeaway message is, we need to take derivatives in a Riemannian space instead of a Euclidean space, and to do that we need some fancy math. Then we apply the fancy math and get a nicer version of the gradient for the update.\n",
      "\n",
      "\n",
      "#### The Riemannian Metric ####\n",
      "\n",
      "Suppose we have a probability function space that is indexed by a parameter $p$ (so if you pick different values of $p$ in this space, you get different probability distributions), and we pick a starting value for the parameter, $p_0$. That value $p_0$ corresponds to a probability distribution with parameter value $p_0$. If we were to move in any direction in that space, we would get a probability distribution corresponding to a different value of $p$. Suppose the space is only 3 dimensional, so a unit change in $p$ would mean that we were somewhere on the unit ball with $p_0$ in the centre. Suppose our move takes us in a direction $d_1$. Then we have a new probability distribution parameterized by $p_{d_1}$. This new probability distribution has a KL divergence with the initial distribution. \n",
      "\n",
      "Now say instead we went in a different direction on the unit ball with $p_0$ in the centre. Call this new direction $d_2$. Then we get another probability distribution that has parameter $p_{d2}$. \n",
      "\n",
      "Even though the distance between $p_0$ and $p_{d1}$ is equal to the distance between $p_0$ and $p_2$ in Euclidean space, their KL divergences will not necessarily be equal.\n",
      "\n",
      "The example given in Hoffman et al (2013) illustrates this problem nicely. Suppose we're interested in the univariate normal distribution. The distributions N(0, 10000) and N(10, 10000) are almost indistinguishable, and the Euclidean distance between their parameter vectors is 10; however, the distributions N(0, 0.01) and N(0.1, 0.01) barely overlap, but they have a much smaller Euclidean distance between their parameter vectors (0.1). \n",
      "\n",
      "<img src=\"https://github.com/caugusta/variational-inference/raw/master/NormalVar10000-1.png\" alt=\"\" style=\"width:400px\"> | <img src=\"https://github.com/caugusta/variational-inference/raw/master/Normalvar001-1.png\" alt=\"\" style=\"width:400px\"> \n",
      "\n",
      "\n",
      "So Euclidean distance is a poor measure of difference between distributions, and we need a way to convert this Euclidean space where distances are measured based on an $L_2$ norm to a Riemannian space, where we can measure differences using a symmetrized KL divergence. We need a symmetrized KL divergence because otherwise the 'distance' from p to q would not be the same as the distance from q to p, if p and q are probability distributions in some probability space.\n",
      "\n",
      "$$D_{KL}^{sym} (\\lambda, \\lambda') = E_{\\lambda} \\left[ log \\displaystyle{\\frac{Q(\\beta \\mid \\lambda)}{Q(\\beta \\mid \\lambda')}} \\right] + E_{\\lambda'} \\left[ log \\displaystyle{\\frac{Q(\\beta \\mid \\lambda')}{Q(\\beta \\mid \\lambda)}} \\right]$$\n",
      "\n",
      "In natural gradient ascent, we premultiply the gradient that we already have by the inverse of the Riemannian metric. In probability distributions (so in exponential family distributions), the Riemannian metric is just the Fisher Information."
     ]
    },
    {
     "cell_type": "markdown",
     "metadata": {},
     "source": [
      "#### What the update looks like now####\n",
      "\n",
      "For exponential family distributions, the Fisher Information is the second derivative of the log normalizer (the \"a\" function from the exponential family distribution definition). I'm not going to prove that here, because it's shown explicitly in Hoffman et al (2013).\n",
      "\n",
      "So for the update to the global hidden variable, which is based on its variational parameter $\\lambda$, the Fisher Information metric is defined as:\n",
      "$G(p) = a''(\\lambda)$\n",
      "\n",
      "Recall the original gradient with respect to $\\lambda$ was:\n",
      "\n",
      "$$\\nabla_\\lambda \\mathcal{L} = a''(\\lambda) E_\\phi \\left[\\eta_g (x, z) \\right] - \\lambda$$\n",
      "\n",
      "So when we premultiply by $a''^{-1}(\\lambda)$, we get:\n",
      "\n",
      "$$a''^{-1}(\\lambda)\\nabla_\\lambda \\mathcal{L} = E_\\phi \\left[\\eta_g (x, z) \\right] - \\lambda$$\n",
      "\n",
      "Or, using the notation in Hoffman et al (2013):\n",
      "\n",
      "$$\\hat{\\nabla}_\\lambda \\mathcal{L} = E_\\phi \\left[\\eta_g (x, z) \\right] - \\lambda$$\n",
      "\n",
      "<!---\n",
      "(I'm not sure why we didn't have to worry about $a''(\\lambda)$ being multiplied by $\\lambda$)\n",
      "-->\n",
      "\n",
      "And analogously:\n",
      "\n",
      "$$\\hat{\\nabla}_{\\phi_i} \\mathcal{L} = E_{\\lambda} \\left[\\eta_\\ell (x_i, z_i, \\beta) \\right] - \\phi_i$$\n",
      "\n",
      "<!---\n",
      "Hoffman et al (2013) alleges you can compute the natural gradient by \"computing the coordinate updates in parallel and subtracting the current setting of the parameters\". I don't see it yet. I understand the \"subtracting the current setting of the parameters\" part.\n",
      "-->\n",
      "\n",
      "So all you have to do to get these updates is to compute the coordinate updates (those expectations), which can be done in parallel, and subtract the current setting of the parameters. These natural gradients are very easy to compute.\n",
      "\n",
      "The other advantage is that now, of course, we don't have to worry about computing the Fisher Information matrix, like in traditional variational inference. That's pretty costly, so that's now saved.\n",
      "\n"
     ]
    },
    {
     "cell_type": "markdown",
     "metadata": {},
     "source": [
      "### Stochastic optimization ###\n",
      "\n",
      "That coordinate ascent algorithm is still inefficient for large datasets, because we haven't eliminated the need to see all the observations before making an update ($\\hat{\\nabla}_\\lambda \\mathcal{L}$ needs to see all the x values before making an update). Here's where that problem gets solved. We're going to use stochastic optimization on the global hidden variables (because finding the local ones is computationally cheap - it's the global ones that cause the problem).\n",
      "\n",
      "The way stochastic optimization works is to get a noisy estimate of the gradient instead of working with the true gradient. The noise in this case is exclusively sampling noise. You start with a big step size in the direction of the initial noisy gradient based on only one observation from the dataset. Then, as you see more and more observations, you decrease the step size.\n",
      "\n",
      "Since the gradient is composed of additive terms (one for each observation), it's easy to compute a noisy approximation of the gradient by sampling (you just don't have a lot of those terms at the beginning, and get more of them as you sample). As long as certain conditions on the step-size schedule are met, this will converge to a global optimum (if the function is convex) and a local optimum otherwise.\n",
      "\n",
      "\n",
      "\n"
     ]
    },
    {
     "cell_type": "markdown",
     "metadata": {},
     "source": [
      "####Stochastic natural gradients####\n",
      "\n",
      "Still following the notation in Hoffman et al (2013), suppose we have an objective function $f(\\lambda)$ and a random function $B(\\lambda)$ such that $E_q \\left[ B(\\lambda) \\right] = \\nabla_{\\lambda} f(\\lambda)$. Then we can optimize $f(\\lambda)$ by following samples $b_t$ from the function $B(\\lambda)$. The update for $\\lambda$ is then:\n",
      "\n",
      "$$\\lambda^{(t)} = \\lambda^{(t-1)} + \\rho_t b_t(\\lambda^{(t-1)})$$\n",
      "\n",
      "The conditions the step-size schedule needs to satisfy are:\n",
      "\n",
      "$$\\sum \\rho_t = \\infty; \\sum \\rho_t^2 < \\infty$$\n",
      "\n",
      "Now if we use natural gradients instead of Euclidean gradients, then we have:\n",
      "    \n",
      "$$\\lambda^{(t)} = \\lambda^{(t-1)} + \\rho_t G_t^{-1} b_t(\\lambda^{(t-1)})$$\n",
      "    \n",
      "    "
     ]
    },
    {
     "cell_type": "markdown",
     "metadata": {},
     "source": [
      "### Stochastic Variational Inference ###\n",
      "\n",
      "So what we're worried about is maximizing the ELBO with respect to the global variational parameter $\\lambda$. Again skipping a lot of derivation, we can write the ELBO with respect to $\\lambda$ in the following form:\n",
      "\n",
      "$$\\mathcal{L} (\\lambda) = E_Q \\left[ {\\rm {ln\\ }} P(\\beta) \\right] - E_Q \\left[ {\\rm {ln\\ }} Q(\\beta \\mid \\lambda)\\right] + \\sum_{i=1}^n \\left(E_Q \\left[ {\\rm {ln\\ }} P(x_i, z_i \\mid \\beta) \\right] - E_Q \\left[ {\\rm {ln\\ }} Q(z_i \\mid \\phi_i) \\right]\\right)$$\n",
      "\n",
      "Now if we had only one observation instead of all $n$ (that is, if we sampled 1 data point from our dataset according to a discrete Uniform distribution), and pretended that this one sampled data point is the only data point we'll ever see (so we replicate it n times to match the dimension we need for $z$ and $\\phi$) then we would have the following form instead:\n",
      "\n",
      "$$\\mathcal{L}_i (\\lambda) = E_Q \\left[ {\\rm {ln\\ }} P(\\beta) \\right] - E_Q \\left[ {\\rm {ln\\ }} Q(\\beta \\mid \\lambda)\\right] + n\\left( E_Q \\left[ {\\rm {ln\\ }} P(x_i, z_i \\mid \\beta) \\right] - E_Q \\left[ {\\rm {ln\\ }} Q(z_i \\mid \\phi_i) \\right]\\right)$$\n",
      "\n",
      "The stochastic gradient algorithm works because this version of the ELBO with respect to 1 observation is an unbiased estimator of the true ELBO with respect to all of the observations. In other words, the expected value of $\\mathcal{L}_i \\lambda$ with respect to the sampled observation is equal to the actual ELBO with respect to all n observations, $\\mathcal{L} \\lambda$. \n",
      "\n",
      "You can see this because if we took the expectation with respect to the sampled observation, and we had sampled independently with probability 1/n, the only term with a $x_i$ (the observation) in $\\mathcal{L}_i \\lambda$ is \n",
      "\n",
      "$$n\\left( E_Q \\left[ {\\rm {ln\\ }} P(x_i, z_i \\mid \\beta) \\right] - E_Q \\left[ {\\rm {ln\\ }} Q(z_i) \\right]\\right)$$\n",
      "\n",
      "The rest will be constants with respect to $x_i$, so we don't care about them when computing this expectation.\n",
      "\n",
      "The sampling procedure will have a discrete Uniform distribution. recall the definition of expectation for a discrete random variable:\n",
      "    \n",
      "$$E(f(X)) = \\sum_{x} f(x) p(x)$$\n",
      "\n",
      "But $p(x) = 1/n$, so :\n",
      "\n",
      "    \n",
      "    "
     ]
    },
    {
     "cell_type": "code",
     "collapsed": false,
     "input": [
      "%%latex\n",
      "\n",
      "\\begin{align}\n",
      "E(f(X)) &= \\sum_{x} f(x) p(x) \\\\[0.5em]\n",
      "&=\\sum_{i=1}^n\\left[n\\left( E_Q \\left[ {\\rm {ln\\ }} P(x_i, z_i \\mid \\beta) \\right] - E_Q \\left[ {\\rm {ln\\ }} Q(z_i) \\right]\\right)\\right] \\frac{1}{n} \\\\[0.5em]\n",
      "&= \\sum_{i=1}^n\\left[\\frac{n}{n}\\left( E_Q \\left[ {\\rm {ln\\ }} P(x_i, z_i \\mid \\beta) \\right] - E_Q \\left[ {\\rm {ln\\ }} Q(z_i) \\right]\\right)\\right] \\\\[0.5em]\n",
      "&= \\sum_{i=1}^n \\left( E_Q \\left[ {\\rm {ln\\ }} P(x_i, z_i \\mid \\beta) \\right] - E_Q \\left[ {\\rm {ln\\ }} Q(z_i) \\right]\\right) \\\\[0.5em]\n",
      "\\end{align}"
     ],
     "language": "python",
     "metadata": {},
     "outputs": [
      {
       "latex": [
        "\n",
        "\\begin{align}\n",
        "E(f(X)) &= \\sum_{x} f(x) p(x) \\\\[0.5em]\n",
        "&=\\sum_{i=1}^n\\left[n\\left( E_Q \\left[ {\\rm {ln\\ }} P(x_i, z_i \\mid \\beta) \\right] - E_Q \\left[ {\\rm {ln\\ }} Q(z_i) \\right]\\right)\\right] \\frac{1}{n} \\\\[0.5em]\n",
        "&= \\sum_{i=1}^n\\left[\\frac{n}{n}\\left( E_Q \\left[ {\\rm {ln\\ }} P(x_i, z_i \\mid \\beta) \\right] - E_Q \\left[ {\\rm {ln\\ }} Q(z_i) \\right]\\right)\\right] \\\\[0.5em]\n",
        "&= \\sum_{i=1}^n \\left( E_Q \\left[ {\\rm {ln\\ }} P(x_i, z_i \\mid \\beta) \\right] - E_Q \\left[ {\\rm {ln\\ }} Q(z_i) \\right]\\right) \\\\[0.5em]\n",
        "\\end{align}"
       ],
       "metadata": {},
       "output_type": "display_data",
       "text": [
        "<IPython.core.display.Latex at 0x101f97050>"
       ]
      }
     ],
     "prompt_number": 11
    },
    {
     "cell_type": "markdown",
     "metadata": {},
     "source": [
      "So the expected value of the sampled ELBO is the true ELBO, which makes this sampled ELBO an unbiased estimate of the true ELBO. \n",
      "\n",
      "If we take the natural gradient with respect to $\\lambda$ of the sampled ELBO, then the natural gradient of the sampled ELBO will be an unbiased estimate of the natural gradient of the true ELBO (proof omitted). So the gradient of the sampled ELBO is a noisy gradient of the true ELBO.\n",
      "\n",
      "The sampled ELBO is essentially an ELBO where we saw the same observation $n$ times. \n",
      "\n",
      "Again skipping over a bunch of derivation, the formula for the natural gradient of the sampled ELBO is:\n",
      "    \n",
      "$$\\nabla_\\lambda \\hat{\\mathcal{L}}_i = E_{\\phi_i} \\left[ \\eta_i(z_i, x_i) \\right] - \\lambda$$\n",
      "\n",
      "So we only need the local variational parameters for one observation, instead of having to calculate all $n$ of them. If we were to calcluate the full natural gradient according to that $\\mathcal{L} (\\lambda)$, then we would have to use all of the local parameters $\\phi_{1:n}$.  \n",
      "\n",
      "That result leads, at last, to the algorithm for stochastic variational inference.\n",
      "\n"
     ]
    },
    {
     "cell_type": "markdown",
     "metadata": {},
     "source": [
      "#### Algorithm for Stochastic Variational Inference ####\n",
      "\n",
      "Randomly initialize global parameter(s) $\\lambda$\n",
      "Set a step size schedule $\\epsilon_t$\n",
      "Repeat\n",
      "\n",
      "1) Sample an observation $x_i$ from your dataset, without replacement, according to a DU[1, n] distribution.\n",
      "\n",
      "2) Compute the local variational parameter $\\phi_i$ for that particular observation, according to:\n",
      "\n",
      "  $$\\phi = E_{\\lambda^{(t-1)}}\\left[\\nabla_\\ell (x_i, \\beta) \\right]$$\n",
      "  \n",
      "3) Make believe that $x_i$ is the only observation in the dataset, and calculate\n",
      "\n",
      "  $$\\hat{\\lambda} = E_{\\phi} \\left[ \\eta_i (x_i, z_i)\\right]$$\n",
      "  \n",
      "4) Update the current estimate of the global variational parameter:\n",
      "\n",
      "  $$\\lambda^{t} = (1 - \\epsilon_t) \\lambda^{(t-1)} + \\epsilon_t\\hat{\\lambda}$$\n",
      "    \n",
      "remember the step size decreases as a function of $t$."
     ]
    },
    {
     "cell_type": "markdown",
     "metadata": {},
     "source": [
      "#### Example of stochastic variational inference for Gaussian mixture model ####\n",
      "\n",
      "Recall a Gaussian mixture model is a submodel of the more general Dirichlet Process mixture model (DPMM). \n"
     ]
    },
    {
     "cell_type": "code",
     "collapsed": false,
     "input": [
      "### Markov chain Monte Carlo ###\n",
      "\n",
      "I've seen this compared to random walk metropolis hastings MCMC, and to reversible-jump mcmc.\n",
      "\n",
      "RWMHMCMC\n",
      "\n",
      "Reversible-jump MCMC\n",
      "\n",
      "GET REFERENCES FOR STOCHASTIC VERISON"
     ],
     "language": "python",
     "metadata": {},
     "outputs": []
    },
    {
     "cell_type": "code",
     "collapsed": false,
     "input": [],
     "language": "python",
     "metadata": {},
     "outputs": []
    },
    {
     "cell_type": "markdown",
     "metadata": {},
     "source": [
      "### Conclusion ###\n",
      "\n",
      "Variational inference is useful when the posterior distribution is intractable. It is similar to several methods, like the EM (expectation-maximization) algorithm, especially for mixtures of Gaussians. According to Bishop (2006), there are some advantages to variational inference over the EM algorithm:\n",
      "\n",
      "1. The singularities that we see in the (frequentist) EM algorithm do not arise in this Bayesian treatment.\n",
      "\n",
      "2. If we choose a large number of initial clusters (here we chose K = 10), we don't have to worry about overfitting. \n",
      "\n",
      "3. Finding the optimal value of K did not require the extra step of cross-validation.\n",
      "\n",
      "Variational methods have been extended beyond the mean-field assumption, and have been extended to stochastic versions (see Hoffman et al 2013). Future work lies in moving away from exponential family distributions, finding theoretical guarantees in the stochastic algorithm, and more."
     ]
    },
    {
     "cell_type": "markdown",
     "metadata": {},
     "source": [
      "### References ###\n",
      "\n",
      "Bishop, C.M. (2006) Pattern Recognition and Machine Learning. Springer.\n",
      "\n",
      "Bishop, C.M. (1998) Variational Learning in Graphical Models and Neural Networks.  Proceedings 8th International Conference on Artificial Neural Networks, ICANN'98, L.Niklasson et al. (eds), Springer (1998) 1, 13-22.\n",
      "\n",
      "Brodersen, K.H. Variational Bayesian Inference. [Online] http://people.inf.ethz.ch/bkay/talks/Brodersen_2013_03_22.pdf\n",
      "\n",
      "Feng, Z. Assignment 3, STAT 6841: Statistical Inference. Winter 2015. University of Guelph. Guelph, ON, Canada.\n",
      "\n",
      "Hoffman et al (2013). Stochastic Variational Inference. Journal of Machine Learning Research (14), 1303-1347.\n",
      "\n",
      "Jaakko Luttinen and Hannu Hartikainen. BayesPy. http://www.bayespy.org/examples/gmm.html\n",
      "\n",
      "Munroe, R. xkcd. Frequentists vs Bayesians. http://xkcd.com/1132/\n",
      "\n",
      "R dataset (Faithful). R Core Team (2013). R: A language and environment for statistical computing. R Foundation for Statistical Computing, Vienna, Austria. URL http://www.R-project.org/.\n",
      "\n",
      "Sridharan, R. Gaussian Mixture Models and the EM Algorithm. http://people.csail.mit.edu/rameshvs/content/gmm-em.pdf"
     ]
    },
    {
     "cell_type": "code",
     "collapsed": false,
     "input": [],
     "language": "python",
     "metadata": {},
     "outputs": []
    }
   ],
   "metadata": {}
  }
 ]
}