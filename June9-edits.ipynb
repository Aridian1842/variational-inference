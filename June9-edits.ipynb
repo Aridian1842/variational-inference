{
 "metadata": {
  "name": "",
  "signature": "sha256:52f8b02450117e7f256f86cfd7907195917d413b81477d643d0321a919d95284"
 },
 "nbformat": 3,
 "nbformat_minor": 0,
 "worksheets": [
  {
   "cells": [
    {
     "cell_type": "code",
     "collapsed": false,
     "input": [
      "import pymc as pm\n",
      "import numpy as np\n",
      "from pymc import Dirichlet\n",
      "from pymc import Categorical\n",
      "%matplotlib inline\n",
      "\n",
      "\n",
      "#Declare the number of observations we have, and the number of clusters\n",
      "ndata = 200\n",
      "k = 4\n",
      "\n",
      "#Initialize pi, sigma^2, omega^2, and z=assts\n",
      "pik = pm.Dirichlet('pik', theta=(1,)*k)\n",
      "pik1 = [pik.random() for i in range(ndata)]\n",
      "zi = pm.Categorical('category', p=pik, size=ndata) #used pymc for this because numpy only has multinomial, no categorical.\n",
      "assts = zi.random()\n",
      "\n",
      "sigma2 = np.matrix([[1, 0.2],[0.2, 1]]) #sigma^2 is a fixed, equal covariance matrix for all clusters.\n",
      "omega2 = np.matrix([[1, 0.01],[0.01, 1]]) #The cluster centres mu are generated from N(0, omega^2). Want well separated.\n",
      "\n",
      "#Get the cluster centres\n",
      "mu = np.random.multivariate_normal([0,0], omega2, size=4)\n",
      "print mu\n",
      "\n",
      "#Generate the data for each cluster\n",
      "#http://www.bayespy.org/examples/gmm.html\n",
      "\n",
      "x0 = np.random.multivariate_normal(mu[0], sigma2, size=ndata/k)\n",
      "x1 = np.random.multivariate_normal(mu[1], sigma2, size=ndata/k)\n",
      "x2 = np.random.multivariate_normal(mu[2], sigma2, size=ndata/k)\n",
      "x3 = np.random.multivariate_normal(mu[3], sigma2, size=ndata/k)\n",
      "\n",
      "obs = np.vstack([x0, x1, x2, x3])\n",
      "\n",
      "\n",
      "def hat_mu_k_one(xval, assts=assts, sigma2=sigma2, omega2=omega2):\n",
      "    #Assts will be just one assignment now, since we're talking about one x_i value.\n",
      "    s0 = assts #this is the assignment of the x_i th observation\n",
      "    \n",
      "    # And we need to calculate the mean and variance of the complete conditional distribution for mu_k\n",
      "    # Note the complete conditional is mu_k ~ MVN(hat_mu_k, hat_omega_k)\n",
      "    \n",
      "    #We should only update the mu value associated with the assignment z_i \n",
      "    #that we have from the x_i th observation\n",
      "    hat_mu1 = ((1/sigma2)/((1/sigma2) + (1/omega2)))*xval\n",
      "    return hat_mu1\n",
      "\n",
      "\n",
      "print hat_mu_k_one(xval=obs[10], assts=0, sigma2=sigma2, omega2=omega2)"
     ],
     "language": "python",
     "metadata": {},
     "outputs": []
    }
   ],
   "metadata": {}
  }
 ]
}