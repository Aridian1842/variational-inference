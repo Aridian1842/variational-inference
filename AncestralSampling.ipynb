{
 "metadata": {
  "name": "",
  "signature": "sha256:810a870ca8a6ae244b6824b1e5c168342f6c6247862622a8f9a800fcfa875048"
 },
 "nbformat": 3,
 "nbformat_minor": 0,
 "worksheets": [
  {
   "cells": [
    {
     "cell_type": "markdown",
     "metadata": {},
     "source": [
      "### From Bishop (2006) Chapter 8: Ancestral Sampling ###"
     ]
    },
    {
     "cell_type": "markdown",
     "metadata": {},
     "source": [
      "If we have a directed acyclic graph that factorizes according to:\n",
      "\n",
      "$$P(x_1, \\ldots x_K) = \\prod_{k = 1}^{K} P(x_k \\mid {\\rm{pa}}_k)$$"
     ]
    },
    {
     "cell_type": "markdown",
     "metadata": {},
     "source": [
      "where ${\\rm{pa}}_{k}$ denotes the set of parents of node $x_k$. "
     ]
    },
    {
     "cell_type": "markdown",
     "metadata": {},
     "source": [
      "We assume that 'each node has a higher number than its parents'; that is, we assume that if the parents of node $x_k$ are any of the nodes $x_1$ through $x_{k-1}$"
     ]
    },
    {
     "cell_type": "markdown",
     "metadata": {},
     "source": [
      "We want to draw a sample $\\hat{x_1}, \\ldots, \\hat{x_K}$ from the distribution $P(x_1, \\ldots, x_K)$"
     ]
    },
    {
     "cell_type": "markdown",
     "metadata": {},
     "source": [
      "To accomplish this, we start with $x_1$ and draw a sample from the distribution $P(x_1)$, called $\\hat{x_1}$\n",
      "\n",
      "Then we draw a sample of the next node(s) in the hierarchy, conditional on the nodes we've already sampled. That is, we sample from the conditional distribution $P(x_{\\ell} \\mid {\\hat{\\rm{pa}}_{\\ell}), \\ell = 2, \\ldots, K$"
     ]
    },
    {
     "cell_type": "code",
     "collapsed": false,
     "input": [],
     "language": "python",
     "metadata": {},
     "outputs": []
    }
   ],
   "metadata": {}
  }
 ]
}