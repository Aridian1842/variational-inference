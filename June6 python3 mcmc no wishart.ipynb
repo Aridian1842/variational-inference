{
 "cells": [
  {
   "cell_type": "code",
   "execution_count": 14,
   "metadata": {
    "collapsed": false
   },
   "outputs": [
    {
     "ename": "TypeError",
     "evalue": "__init__() takes 1 positional argument but 2 were given",
     "output_type": "error",
     "traceback": [
      "\u001b[0;31m---------------------------------------------------------------------------\u001b[0m",
      "\u001b[0;31mTypeError\u001b[0m                                 Traceback (most recent call last)",
      "\u001b[0;32m<ipython-input-14-4d300a471a1e>\u001b[0m in \u001b[0;36m<module>\u001b[0;34m()\u001b[0m\n\u001b[1;32m     34\u001b[0m \u001b[0mmu\u001b[0m \u001b[0;34m=\u001b[0m \u001b[0mGaussian\u001b[0m\u001b[0;34m(\u001b[0m\u001b[0mnp\u001b[0m\u001b[0;34m.\u001b[0m\u001b[0mzeros\u001b[0m\u001b[0;34m(\u001b[0m\u001b[0mD\u001b[0m\u001b[0;34m)\u001b[0m\u001b[0;34m,\u001b[0m \u001b[0;36m1e-5\u001b[0m\u001b[0;34m*\u001b[0m\u001b[0mnp\u001b[0m\u001b[0;34m.\u001b[0m\u001b[0midentity\u001b[0m\u001b[0;34m(\u001b[0m\u001b[0mD\u001b[0m\u001b[0;34m)\u001b[0m\u001b[0;34m,\u001b[0m \u001b[0mplates\u001b[0m\u001b[0;34m=\u001b[0m\u001b[0;34m(\u001b[0m\u001b[0mK\u001b[0m\u001b[0;34m,\u001b[0m\u001b[0;34m)\u001b[0m\u001b[0;34m,\u001b[0m \u001b[0mname\u001b[0m\u001b[0;34m=\u001b[0m\u001b[0;34m'mu'\u001b[0m\u001b[0;34m)\u001b[0m\u001b[0;34m\u001b[0m\u001b[0m\n\u001b[1;32m     35\u001b[0m \u001b[0mLambda\u001b[0m \u001b[0;34m=\u001b[0m \u001b[0mWishart\u001b[0m\u001b[0;34m(\u001b[0m\u001b[0mD\u001b[0m\u001b[0;34m,\u001b[0m \u001b[0;36m1e-5\u001b[0m\u001b[0;34m*\u001b[0m\u001b[0mnp\u001b[0m\u001b[0;34m.\u001b[0m\u001b[0midentity\u001b[0m\u001b[0;34m(\u001b[0m\u001b[0mD\u001b[0m\u001b[0;34m)\u001b[0m\u001b[0;34m,\u001b[0m \u001b[0mplates\u001b[0m\u001b[0;34m=\u001b[0m\u001b[0;34m(\u001b[0m\u001b[0mK\u001b[0m\u001b[0;34m,\u001b[0m\u001b[0;34m)\u001b[0m\u001b[0;34m,\u001b[0m \u001b[0mname\u001b[0m\u001b[0;34m=\u001b[0m\u001b[0;34m'Lambda'\u001b[0m\u001b[0;34m)\u001b[0m\u001b[0;34m\u001b[0m\u001b[0m\n\u001b[0;32m---> 36\u001b[0;31m \u001b[0mmodel\u001b[0m \u001b[0;34m=\u001b[0m \u001b[0mpm\u001b[0m\u001b[0;34m.\u001b[0m\u001b[0mModel\u001b[0m\u001b[0;34m(\u001b[0m \u001b[0;34m[\u001b[0m\u001b[0mobs\u001b[0m\u001b[0;34m,\u001b[0m \u001b[0mmu\u001b[0m\u001b[0;34m,\u001b[0m \u001b[0mLambda\u001b[0m\u001b[0;34m]\u001b[0m \u001b[0;34m)\u001b[0m\u001b[0;34m\u001b[0m\u001b[0m\n\u001b[0m\u001b[1;32m     37\u001b[0m \u001b[0;34m\u001b[0m\u001b[0m\n\u001b[1;32m     38\u001b[0m \u001b[0;31m#Note the Wishart (and I assume by extension the inverse Wishart) \"cannot currently be used for MCMC sampling\"\u001b[0m\u001b[0;34m\u001b[0m\u001b[0;34m\u001b[0m\u001b[0m\n",
      "\u001b[0;31mTypeError\u001b[0m: __init__() takes 1 positional argument but 2 were given"
     ]
    }
   ],
   "source": [
    "import bayespy\n",
    "import pymc3 as pm\n",
    "import numpy as np\n",
    "from bayespy.nodes import Dirichlet, Categorical\n",
    "from bayespy.nodes import Gaussian, Wishart\n",
    "\n",
    "#Get 50 samples from each of 4 separate 2D Multivariate Normal distributions\n",
    "x0 = np.random.multivariate_normal([0, 0], [[2, 0], [0, 0.1]], size=50)\n",
    "x1 = np.random.multivariate_normal([0, 0], [[0.1, 0], [0, 2]], size=50)\n",
    "x2 = np.random.multivariate_normal([2, 2], [[2, -1.5], [-1.5, 2]], size=50)\n",
    "x3 = np.random.multivariate_normal([-2, -2], [[0.5, 0], [0, 0.5]], size=50)\n",
    "\n",
    "\n",
    "#concatenate all of the observations together\n",
    "obs = np.vstack([x0, x1, x2, x3])\n",
    "\n",
    "#Can't use a conjugate prior for the precision matrix \n",
    "#because Wishart distribution is not implemented for MCMC under pymc3\n",
    "N = 400\n",
    "D = 2\n",
    "K = 4\n",
    "#mu = np.random.multivariate_normal(np.zeros(D), 1e-5*np.identity(D), 4)\n",
    "#Sigma = 1e-5*np.identity(D)\n",
    "\n",
    "\n",
    "#Create a Dirichlet process prior for the cluster assignments our P(\\pi) \n",
    "alpha = Dirichlet(1e-5*np.ones(K), name = 'alpha') \n",
    "\n",
    "#The cluster assignments themselves follow a Categorical distribution\n",
    "#Since there are N observations, there will be N cluster assignments\n",
    "Z = Categorical(alpha, plates=(N,), name='z')\n",
    "\n",
    "\n",
    "mu = Gaussian(np.zeros(D), 1e-5*np.identity(D), plates=(K,), name='mu')\n",
    "Lambda = Wishart(D, 1e-5*np.identity(D), plates=(K,), name='Lambda')\n",
    "model = pm.Model( [obs, mu, Lambda] )\n",
    "\n",
    "mcmc1 = pm.MCMC(model)\n",
    "#Note the Wishart (and I assume by extension the inverse Wishart) \"cannot currently be used for MCMC sampling\"\n",
    "\n",
    "#Code \n",
    "#http://stackoverflow.com/questions/29050153/how-to-properly-sample-from-wishart-distribution-using-pymc3\n",
    "#import pymc3 as pm\n",
    "#import numpy as np\n",
    "#prec_prior = np.array([[ 25.3968254,   -1.58730159],\n",
    "#                       [ -1.58730159,   6.34920635]])\n",
    "#with pm.Model() as model:\n",
    "#     prec = pm.Wishart('prec', 100.0, prec_prior / 100.0, shape=(2, 2))\n",
    "#     step = pm.Metropolis()\n",
    "#     trace = pm.sample(10000, step)\n",
    "        \n",
    "#error message\n",
    "#/Library/Frameworks/Python.framework/Versions/3.4/lib/python3.4/site-packages/pymc3/distributions/multivariate.py:166: UserWarning: The Wishart distribution can currently not be used for MCMC sampling. The probability of sampling a symmetric matrix is basically zero. Instead, please use the LKJCorr prior. For more information on the issues surrounding the Wishart see here: https://github.com/pymc-devs/pymc3/issues/538.\n",
    "#  warnings.warn('The Wishart distribution can currently not be used for MCMC sampling. The probability of sampling a symmetric matrix is basically zero. Instead, please use the LKJCorr prior. For more information on the issues surrounding the Wishart see here: https://github.com/pymc-devs/pymc3/issues/538.', UserWarning)\n",
    "#Cannot compute test value: input 0 (<TensorType(float32, matrix)>) of Op Dot22(<TensorType(float32, matrix)>, <TensorType(float32, matrix)>) missing default value\n",
    "#[-                 3%                  ] 352 of 10000 complete in 0.5 sec\n",
    "#[-------          18%                  ] 1877 of 10000 complete in 1.0 sec\n",
    "#[------------     33%                  ] 3385 of 10000 complete in 1.5 sec\n",
    "#[-----------------48%                  ] 4834 of 10000 complete in 2.0 sec\n",
    "#[-----------------63%----              ] 6324 of 10000 complete in 2.5 sec\n",
    "#[-----------------78%---------         ] 7836 of 10000 complete in 3.0 sec\n",
    "#[-----------------93%---------------   ] 9351 of 10000 complete in 3.5 sec\n",
    "#[-----------------100%-----------------] 10000 of 10000 complete in 3.7 sec\n"
   ]
  },
  {
   "cell_type": "code",
   "execution_count": null,
   "metadata": {
    "collapsed": true
   },
   "outputs": [],
   "source": []
  }
 ],
 "metadata": {
  "kernelspec": {
   "display_name": "Python 3",
   "language": "python",
   "name": "python3"
  },
  "language_info": {
   "codemirror_mode": {
    "name": "ipython",
    "version": 3
   },
   "file_extension": ".py",
   "mimetype": "text/x-python",
   "name": "python",
   "nbconvert_exporter": "python",
   "pygments_lexer": "ipython3",
   "version": "3.4.3"
  }
 },
 "nbformat": 4,
 "nbformat_minor": 0
}
