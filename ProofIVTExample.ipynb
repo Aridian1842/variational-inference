{
 "metadata": {
  "name": "",
  "signature": "sha256:358f3de96c8ab22f4f5c5cb4df6ede80f2dedaa05af2e45cfca96817d8943aca"
 },
 "nbformat": 3,
 "nbformat_minor": 0,
 "worksheets": [
  {
   "cells": [
    {
     "cell_type": "markdown",
     "metadata": {},
     "source": [
      "------------------\n",
      "\n",
      "#### Proof of Inverse Transform Theorem and example using Exponential distribution ####\n",
      "\n",
      "From Riley Metzger. 13 July 2011. STAT 340: Computer simulation of complex systems. University of Waterloo.\n",
      "\n",
      "Theorem: Let $U \\sim U(0, 1)$. Let $X = F^{-1}(U)$. Then the random variable $X$ has CDF $F_X(x)$.\n",
      "\n",
      "Proof: \n",
      "\n",
      "Recall if $U \\sim U(0,1)$, then $P(U \\le t) = \\int_{0}^{t} (1) du = t$\n",
      "\n",
      "\\begin{align}\n",
      "F_X(x) &= P(X \\le x) {\\rm{\\ \\ \\ by\\ definition\\ of\\ CDF}} \\\\[0.5em]\n",
      "&= P(F^{-1}(U) \\le x) {\\rm{\\ \\ \\ from\\ theorem\\ statement}} \\\\[0.5em]\n",
      "&= P(F[F^{-1}(U)] \\le F(x)) {\\rm{\\ \\ \\ since\\ a\\ CDF\\ is\\ a\\ monotonically\\ increasing\\ function}} \\\\[0.5em]\n",
      "&= P(U \\le F(x)) \\\\[0.5em]\n",
      "&= \\int_{0}^{F(x)} (1) du {\\rm{\\ \\ \\  from\\ Recall}} \\\\[0.5em]\n",
      "&= F(x)\n",
      "\\end{align}\n",
      "\n"
     ]
    },
    {
     "cell_type": "markdown",
     "metadata": {},
     "source": [
      "So the inverse has the CDF we want. QED."
     ]
    },
    {
     "cell_type": "markdown",
     "metadata": {},
     "source": [
      "Example: \n",
      "    \n",
      "Let $X \\sim Exp(\\lambda)$. We want to generate samples from this distribution, using $U(0,1)$ as a starting distribution. \n",
      "\n",
      "We know the CDF of the exponential distribution: $F(x) = 1 - exp(-\\lambda x)$\n",
      "\n",
      "Apply IVT: $F(x) = F(F^{-1})(U)$ implies $F(x) = U$, so $U = 1 - exp(-\\lambda x)$\n",
      "\n",
      "Now $x = \\frac{-1}{\\lambda} log(1 - u)$ solving for x (inverting!)\n",
      "\n",
      "Recall if $U \\sim U(0,1)$ then $1 - U \\sim U(0,1)$, \n",
      "\n",
      "so $x = \\frac{-1}{\\lambda} log(u)$\n",
      "\n",
      "So to generate samples from an exponential distribution, we can sample from a uniform distribution, take the log, and multiply by $\\frac{-1}{\\lambda}$.\n",
      "\n",
      "----------------"
     ]
    },
    {
     "cell_type": "code",
     "collapsed": false,
     "input": [],
     "language": "python",
     "metadata": {},
     "outputs": []
    }
   ],
   "metadata": {}
  }
 ]
}