{
 "metadata": {
  "name": "",
  "signature": "sha256:16fec19d7b1a331d2258e009fac80351552f41004cbc219e4e526581e53e93a9"
 },
 "nbformat": 3,
 "nbformat_minor": 0,
 "worksheets": [
  {
   "cells": [
    {
     "cell_type": "markdown",
     "metadata": {},
     "source": [
      "### Showing how Kingma and Welling's equation (2) can be writte as their equation (3) ###"
     ]
    },
    {
     "cell_type": "markdown",
     "metadata": {},
     "source": [
      "Equation 2:\n",
      "    \n",
      "$\\mathcal{L}(\\mathbf{\\theta}, \\mathbf{\\phi}; \\mathbf{x}^{(i)}) = E_{Q_{\\phi} (\\mathbf{z} \\mid \\mathbf{x})}  \\left[-{\\rm log\\ } Q_{\\phi} (\\mathbf{z} \\mid \\mathbf{x}) + {\\rm {log}\\ } P_{\\theta} (\\mathbf{x}, \\mathbf{z}) \\right] $ (note may need ${\\mathbf{x}^{(i)}}$ instead of ${\\mathbf{x}}$)"
     ]
    },
    {
     "cell_type": "markdown",
     "metadata": {},
     "source": [
      "Equation 3:\n",
      "    \n",
      "$\\mathcal{L}(\\mathbf{\\theta}, \\mathbf{\\phi}; \\mathbf{x}^{(i)}) = -{\\rm{KL}}(Q_{\\phi} (\\mathbf{z} \\mid \\mathbf{x}^{(i)})\\ ||\\ P_{\\theta} (\\mathbf{z})) + E_{Q_{\\phi} (\\mathbf{z} \\mid \\mathbf{x}^{(i)})} \\left[ {\\rm{log}\\ } P_{\\theta} (\\mathbf{x}^{(i)} \\mid \\mathbf{z}) \\right] $\n",
      "\n",
      "--------------"
     ]
    },
    {
     "cell_type": "markdown",
     "metadata": {},
     "source": [
      "Showing $E_{Q_{\\phi} (\\mathbf{z} \\mid \\mathbf{x})}  \\left[-{\\rm log\\ } Q_{\\phi} (\\mathbf{z} \\mid \\mathbf{x}) + {\\rm {log}\\ } P_{\\theta} (\\mathbf{x}, \\mathbf{z}) \\right] = -{\\rm{KL}}(Q_{\\phi} (\\mathbf{z} \\mid \\mathbf{x}^{(i)})\\ ||\\ P_{\\theta} (\\mathbf{z})) + E_{Q_{\\phi} (\\mathbf{z} \\mid \\mathbf{x}^{(i)})} \\left[ {\\rm{log}\\ } P_{\\theta} (\\mathbf{x}^{(i)} \\mid \\mathbf{z}) \\right]$\n",
      "\n",
      "--------------"
     ]
    },
    {
     "cell_type": "markdown",
     "metadata": {},
     "source": [
      "Recall $-{\\rm{KL}}(Q_{\\phi} (\\mathbf{z} \\mid \\mathbf{x}^{(i)})\\ ||\\ P_{\\theta} (\\mathbf{z})) = {\\displaystyle{\\int}} Q_{\\phi} (\\mathbf{z} \\mid \\mathbf{x}^{(i)}) {\\rm {\\ log}} \\left[\\displaystyle{\\frac{P_{\\theta} (\\mathbf{z})}{Q_{\\phi} (\\mathbf{z} \\mid \\mathbf{x}^{(i)})}} \\right] d\\mathbf{z}$"
     ]
    },
    {
     "cell_type": "markdown",
     "metadata": {},
     "source": [
      "Also recall $E_{Q_{\\phi} (\\mathbf{z} \\mid \\mathbf{x}^{(i)})} \\left[ {\\rm{log}\\ } P_{\\theta} (\\mathbf{x}^{(i)} \\mid \\mathbf{z}) \\right] = {\\displaystyle{\\int}} Q_{\\phi} (\\mathbf{z} \\mid \\mathbf{x}^{(i)}) {\\rm{\\ log}\\ } P_{\\theta} (\\mathbf{x}^{(i)} \\mid \\mathbf{z})\\ d{\\mathbf{z}}$"
     ]
    },
    {
     "cell_type": "markdown",
     "metadata": {},
     "source": [
      "So \n",
      "\n",
      "\\begin{align}\n",
      "-{\\rm{KL}}(Q_{\\phi} (\\mathbf{z} \\mid \\mathbf{x})\\ ||\\ P_{\\theta} (\\mathbf{z})) + E_{Q_{\\phi} (\\mathbf{z} \\mid \\mathbf{x}^{(i)})} \\left[ {\\rm{log}\\ } P_{\\theta} (\\mathbf{x}^{(i)} \\mid \\mathbf{z}) \\right] &= {\\displaystyle{\\int}} Q_{\\phi} (\\mathbf{z} \\mid \\mathbf{x}) {\\rm {\\ log}} \\left[\\displaystyle{\\frac{P_{\\theta} (\\mathbf{z})}{Q_{\\phi} (\\mathbf{z} \\mid \\mathbf{x}^{(i)})}} \\right] d\\mathbf{z} + {\\displaystyle{\\int}} Q_{\\phi} (\\mathbf{z} \\mid \\mathbf{x}^{(i)}) {\\rm{\\ log}\\ } P_{\\theta} (\\mathbf{x}^{(i)} \\mid \\mathbf{z})\\ d{\\mathbf{z}} \\\\[1.5em]\n",
      "&= {\\displaystyle{\\int}} Q_{\\phi} (\\mathbf{z} \\mid \\mathbf{x}) \\left({\\rm {\\ log}} \\left[\\displaystyle{\\frac{P_{\\theta} (\\mathbf{z})}{Q_{\\phi} (\\mathbf{z} \\mid \\mathbf{x}^{(i)})}} \\right] +  {\\rm{\\ log}\\ } P_{\\theta} (\\mathbf{x}^{(i)} \\mid \\mathbf{z}) \\right) d{\\mathbf{z}} \\\\[1.5em]\n",
      "&= {\\displaystyle{\\int}} Q_{\\phi} (\\mathbf{z} \\mid \\mathbf{x}) \\left({\\rm {\\ log\\ }}P_{\\theta} (\\mathbf{z})  - {\\rm {\\ log\\ }}Q_{\\phi}  (\\mathbf{z} \\mid \\mathbf{x}) +  {\\rm{\\ log}\\ } P_{\\theta} (\\mathbf{x}^{(i)} \\mid \\mathbf{z}) \\right) d{\\mathbf{z}}\n",
      "\\end{align}\n",
      "\n"
     ]
    },
    {
     "cell_type": "markdown",
     "metadata": {},
     "source": [
      "Note by log rules ${\\rm {\\ log\\ }}P_{\\theta} (\\mathbf{z}) + {\\rm{\\ log}\\ } P_{\\theta} (\\mathbf{x}^{(i)} \\mid \\mathbf{z}) = {\\rm {\\ log\\ }} \\left(P_{\\theta} (\\mathbf{z})\\cdot P_{\\theta} (\\mathbf{x}^{(i)} \\mid \\mathbf{z}) \\right) $"
     ]
    },
    {
     "cell_type": "markdown",
     "metadata": {},
     "source": [
      "and by conditional probability, ${\\rm {\\ log\\ }} \\left(P_{\\theta} (\\mathbf{z})\\cdot P_{\\theta} (\\mathbf{x}^{(i)} \\mid \\mathbf{z}) \\right) = {\\rm {\\ log\\ }} P_{\\theta} (\\mathbf{x}^{(i)}, \\mathbf{z})$"
     ]
    },
    {
     "cell_type": "markdown",
     "metadata": {},
     "source": [
      "So \n",
      "\n",
      "\\begin{align}\n",
      "{\\displaystyle{\\int}} Q_{\\phi} (\\mathbf{z} \\mid \\mathbf{x}) \\left({\\rm {\\ log\\ }}P_{\\theta} (\\mathbf{z})  - {\\rm {\\ log\\ }}Q_{\\phi}  (\\mathbf{z} \\mid \\mathbf{x}) +  {\\rm{\\ log}\\ } P_{\\theta} (\\mathbf{x}^{(i)} \\mid \\mathbf{z}) \\right) d{\\mathbf{z}} &= {\\displaystyle{\\int}} Q_{\\phi} (\\mathbf{z} \\mid \\mathbf{x}) \\left( {\\rm {\\ log\\ }} P_{\\theta} (\\mathbf{x}^{(i)}, \\mathbf{z}) - {\\rm {\\ log\\ }}Q_{\\phi}  (\\mathbf{z} \\mid \\mathbf{x}) \\right)d{\\mathbf{z}} \\\\[1.5em]\n",
      "&= E_{Q_{\\phi} (\\mathbf{z} \\mid \\mathbf{x})}  \\left[-{\\rm log\\ } Q_{\\phi} (\\mathbf{z} \\mid \\mathbf{x}) + {\\rm {log}\\ } P_{\\theta} (\\mathbf{x}, \\mathbf{z}) \\right]\n",
      "\\end{align}"
     ]
    },
    {
     "cell_type": "markdown",
     "metadata": {},
     "source": [
      "by definition of expectation. QED."
     ]
    },
    {
     "cell_type": "code",
     "collapsed": false,
     "input": [],
     "language": "python",
     "metadata": {},
     "outputs": []
    }
   ],
   "metadata": {}
  }
 ]
}